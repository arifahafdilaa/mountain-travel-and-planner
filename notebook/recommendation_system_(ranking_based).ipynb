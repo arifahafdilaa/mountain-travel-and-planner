{
  "cells": [
    {
      "cell_type": "markdown",
      "metadata": {
        "id": "xtD2I1gdzWzw"
      },
      "source": [
        "# **Recommendation System (based on Ranking)**"
      ]
    },
    {
      "cell_type": "code",
      "execution_count": 1,
      "metadata": {
        "colab": {
          "base_uri": "https://localhost:8080/"
        },
        "id": "xGLmedF8NfLc",
        "outputId": "308ce6fc-797b-43a1-9624-93cd25578c58"
      },
      "outputs": [
        {
          "output_type": "stream",
          "name": "stdout",
          "text": [
            "Mounted at /content/drive\n"
          ]
        }
      ],
      "source": [
        "# Load the Drive helper and mount\n",
        "from google.colab import drive\n",
        "drive.mount('/content/drive')"
      ]
    },
    {
      "cell_type": "markdown",
      "metadata": {
        "id": "ikCLaYJWw5ib"
      },
      "source": [
        "### **Import**"
      ]
    },
    {
      "cell_type": "markdown",
      "metadata": {
        "id": "JoZCZlAHz0RS"
      },
      "source": [
        "Import modules and library needed"
      ]
    },
    {
      "cell_type": "code",
      "execution_count": 4,
      "metadata": {
        "id": "B4sZ54O8orWe"
      },
      "outputs": [],
      "source": [
        "!pip install -q tensorflow-recommenders"
      ]
    },
    {
      "cell_type": "code",
      "execution_count": 5,
      "metadata": {
        "id": "YGmYPv1KQ8_V"
      },
      "outputs": [],
      "source": [
        "import pandas as pd\n",
        "import numpy as np\n",
        "\n",
        "import tensorflow as tf\n",
        "\n",
        "import tensorflow_recommenders as tfrs\n",
        "import matplotlib.pyplot as plt\n",
        "from typing import Dict, Text"
      ]
    },
    {
      "cell_type": "markdown",
      "metadata": {
        "id": "Y3zHicOTz-ak"
      },
      "source": [
        "### **Prepare Dataset**"
      ]
    },
    {
      "cell_type": "code",
      "execution_count": 6,
      "metadata": {
        "colab": {
          "base_uri": "https://localhost:8080/",
          "height": 206
        },
        "id": "5WqownPPPIYe",
        "outputId": "87628ab1-d8c8-4344-d610-cb53b986a582"
      },
      "outputs": [
        {
          "output_type": "execute_result",
          "data": {
            "text/plain": [
              "   user_id  mountain_id  rating\n",
              "0        1          149       3\n",
              "1        1          219       3\n",
              "2        1           76       4\n",
              "3        9           84       1\n",
              "4        9           63       5"
            ],
            "text/html": [
              "\n",
              "  <div id=\"df-83dd4dc0-bc4d-46d7-9e91-fd0998edefc9\">\n",
              "    <div class=\"colab-df-container\">\n",
              "      <div>\n",
              "<style scoped>\n",
              "    .dataframe tbody tr th:only-of-type {\n",
              "        vertical-align: middle;\n",
              "    }\n",
              "\n",
              "    .dataframe tbody tr th {\n",
              "        vertical-align: top;\n",
              "    }\n",
              "\n",
              "    .dataframe thead th {\n",
              "        text-align: right;\n",
              "    }\n",
              "</style>\n",
              "<table border=\"1\" class=\"dataframe\">\n",
              "  <thead>\n",
              "    <tr style=\"text-align: right;\">\n",
              "      <th></th>\n",
              "      <th>user_id</th>\n",
              "      <th>mountain_id</th>\n",
              "      <th>rating</th>\n",
              "    </tr>\n",
              "  </thead>\n",
              "  <tbody>\n",
              "    <tr>\n",
              "      <th>0</th>\n",
              "      <td>1</td>\n",
              "      <td>149</td>\n",
              "      <td>3</td>\n",
              "    </tr>\n",
              "    <tr>\n",
              "      <th>1</th>\n",
              "      <td>1</td>\n",
              "      <td>219</td>\n",
              "      <td>3</td>\n",
              "    </tr>\n",
              "    <tr>\n",
              "      <th>2</th>\n",
              "      <td>1</td>\n",
              "      <td>76</td>\n",
              "      <td>4</td>\n",
              "    </tr>\n",
              "    <tr>\n",
              "      <th>3</th>\n",
              "      <td>9</td>\n",
              "      <td>84</td>\n",
              "      <td>1</td>\n",
              "    </tr>\n",
              "    <tr>\n",
              "      <th>4</th>\n",
              "      <td>9</td>\n",
              "      <td>63</td>\n",
              "      <td>5</td>\n",
              "    </tr>\n",
              "  </tbody>\n",
              "</table>\n",
              "</div>\n",
              "      <button class=\"colab-df-convert\" onclick=\"convertToInteractive('df-83dd4dc0-bc4d-46d7-9e91-fd0998edefc9')\"\n",
              "              title=\"Convert this dataframe to an interactive table.\"\n",
              "              style=\"display:none;\">\n",
              "        \n",
              "  <svg xmlns=\"http://www.w3.org/2000/svg\" height=\"24px\"viewBox=\"0 0 24 24\"\n",
              "       width=\"24px\">\n",
              "    <path d=\"M0 0h24v24H0V0z\" fill=\"none\"/>\n",
              "    <path d=\"M18.56 5.44l.94 2.06.94-2.06 2.06-.94-2.06-.94-.94-2.06-.94 2.06-2.06.94zm-11 1L8.5 8.5l.94-2.06 2.06-.94-2.06-.94L8.5 2.5l-.94 2.06-2.06.94zm10 10l.94 2.06.94-2.06 2.06-.94-2.06-.94-.94-2.06-.94 2.06-2.06.94z\"/><path d=\"M17.41 7.96l-1.37-1.37c-.4-.4-.92-.59-1.43-.59-.52 0-1.04.2-1.43.59L10.3 9.45l-7.72 7.72c-.78.78-.78 2.05 0 2.83L4 21.41c.39.39.9.59 1.41.59.51 0 1.02-.2 1.41-.59l7.78-7.78 2.81-2.81c.8-.78.8-2.07 0-2.86zM5.41 20L4 18.59l7.72-7.72 1.47 1.35L5.41 20z\"/>\n",
              "  </svg>\n",
              "      </button>\n",
              "      \n",
              "  <style>\n",
              "    .colab-df-container {\n",
              "      display:flex;\n",
              "      flex-wrap:wrap;\n",
              "      gap: 12px;\n",
              "    }\n",
              "\n",
              "    .colab-df-convert {\n",
              "      background-color: #E8F0FE;\n",
              "      border: none;\n",
              "      border-radius: 50%;\n",
              "      cursor: pointer;\n",
              "      display: none;\n",
              "      fill: #1967D2;\n",
              "      height: 32px;\n",
              "      padding: 0 0 0 0;\n",
              "      width: 32px;\n",
              "    }\n",
              "\n",
              "    .colab-df-convert:hover {\n",
              "      background-color: #E2EBFA;\n",
              "      box-shadow: 0px 1px 2px rgba(60, 64, 67, 0.3), 0px 1px 3px 1px rgba(60, 64, 67, 0.15);\n",
              "      fill: #174EA6;\n",
              "    }\n",
              "\n",
              "    [theme=dark] .colab-df-convert {\n",
              "      background-color: #3B4455;\n",
              "      fill: #D2E3FC;\n",
              "    }\n",
              "\n",
              "    [theme=dark] .colab-df-convert:hover {\n",
              "      background-color: #434B5C;\n",
              "      box-shadow: 0px 1px 3px 1px rgba(0, 0, 0, 0.15);\n",
              "      filter: drop-shadow(0px 1px 2px rgba(0, 0, 0, 0.3));\n",
              "      fill: #FFFFFF;\n",
              "    }\n",
              "  </style>\n",
              "\n",
              "      <script>\n",
              "        const buttonEl =\n",
              "          document.querySelector('#df-83dd4dc0-bc4d-46d7-9e91-fd0998edefc9 button.colab-df-convert');\n",
              "        buttonEl.style.display =\n",
              "          google.colab.kernel.accessAllowed ? 'block' : 'none';\n",
              "\n",
              "        async function convertToInteractive(key) {\n",
              "          const element = document.querySelector('#df-83dd4dc0-bc4d-46d7-9e91-fd0998edefc9');\n",
              "          const dataTable =\n",
              "            await google.colab.kernel.invokeFunction('convertToInteractive',\n",
              "                                                     [key], {});\n",
              "          if (!dataTable) return;\n",
              "\n",
              "          const docLinkHtml = 'Like what you see? Visit the ' +\n",
              "            '<a target=\"_blank\" href=https://colab.research.google.com/notebooks/data_table.ipynb>data table notebook</a>'\n",
              "            + ' to learn more about interactive tables.';\n",
              "          element.innerHTML = '';\n",
              "          dataTable['output_type'] = 'display_data';\n",
              "          await google.colab.output.renderOutput(dataTable, element);\n",
              "          const docLink = document.createElement('div');\n",
              "          docLink.innerHTML = docLinkHtml;\n",
              "          element.appendChild(docLink);\n",
              "        }\n",
              "      </script>\n",
              "    </div>\n",
              "  </div>\n",
              "  "
            ]
          },
          "metadata": {},
          "execution_count": 6
        }
      ],
      "source": [
        "df = pd.read_csv(\"/content/drive/MyDrive/Capstone Project/Machine Learning/datasets/ratings.csv\")\n",
        "df.head()"
      ]
    },
    {
      "cell_type": "code",
      "execution_count": 7,
      "metadata": {
        "colab": {
          "base_uri": "https://localhost:8080/"
        },
        "id": "HIUT9HLMxTm5",
        "outputId": "ab74866d-7ad4-46fa-daf0-f63247266ea5"
      },
      "outputs": [
        {
          "output_type": "stream",
          "name": "stdout",
          "text": [
            "Length of dataset rating : 3232\n"
          ]
        }
      ],
      "source": [
        "print('Length of dataset rating :', len(df))"
      ]
    },
    {
      "cell_type": "code",
      "source": [
        "# Check duplicate data\n",
        "print(\"Data duplicated: \", df.duplicated().sum())\n",
        "\n",
        "if df.duplicated().sum() > 0:\n",
        "    df_clean = df[~df.duplicated()]\n",
        "\n",
        "print('Length of dataset rating after cleaning:', len(df_clean))"
      ],
      "metadata": {
        "colab": {
          "base_uri": "https://localhost:8080/"
        },
        "id": "5rmO0-FByUow",
        "outputId": "d5f3336d-3908-4290-ef03-1ad5ea9f8f6c"
      },
      "execution_count": 31,
      "outputs": [
        {
          "output_type": "stream",
          "name": "stdout",
          "text": [
            "Data duplicated:  6\n",
            "Length of dataset rating after cleaning: 3226\n"
          ]
        }
      ]
    },
    {
      "cell_type": "code",
      "source": [
        "#Unique User IDs and Mountain IDs \n",
        "unique_user_ids = len(df_clean.user_id.unique())\n",
        "unique_mountain_ids = len(df_clean.mountain_id.unique())\n",
        "\n",
        "print(unique_mountain_ids, 'Mountain IDs')\n",
        "print(unique_user_ids, 'User IDs')"
      ],
      "metadata": {
        "colab": {
          "base_uri": "https://localhost:8080/"
        },
        "id": "eqoKdaJw1Ifq",
        "outputId": "c08bed9d-b2c5-4d87-a619-6bcf427597a8"
      },
      "execution_count": 32,
      "outputs": [
        {
          "output_type": "stream",
          "name": "stdout",
          "text": [
            "232 Mountain IDs\n",
            "500 User IDs\n"
          ]
        }
      ]
    },
    {
      "cell_type": "markdown",
      "source": [
        "## **Exploration**"
      ],
      "metadata": {
        "id": "Te7xSz9g1CZU"
      }
    },
    {
      "cell_type": "code",
      "source": [
        "#Popular Mountain\n",
        "df_clean.groupby('mountain_id')['rating'].mean().sort_values(ascending=False)[:10]"
      ],
      "metadata": {
        "colab": {
          "base_uri": "https://localhost:8080/"
        },
        "id": "ZKll8ri20jKp",
        "outputId": "23a71010-5d0e-4b92-aa53-3458beb6870b"
      },
      "execution_count": 10,
      "outputs": [
        {
          "output_type": "execute_result",
          "data": {
            "text/plain": [
              "mountain_id\n",
              "47     4.000000\n",
              "16     4.000000\n",
              "181    3.818182\n",
              "66     3.750000\n",
              "65     3.733333\n",
              "88     3.727273\n",
              "70     3.705882\n",
              "172    3.642857\n",
              "182    3.636364\n",
              "197    3.625000\n",
              "Name: rating, dtype: float64"
            ]
          },
          "metadata": {},
          "execution_count": 10
        }
      ]
    },
    {
      "cell_type": "code",
      "source": [
        "#How often each user goes hiking\n",
        "df_freq = df_clean.groupby('user_id').count().groupby('rating').count()\n",
        "df_freq.columns = ['count']\n",
        "df_freq.index.names = ['Hiking Frequency']\n",
        "print(df_freq)"
      ],
      "metadata": {
        "id": "KQjl-Ztj1xWe",
        "colab": {
          "base_uri": "https://localhost:8080/"
        },
        "outputId": "dc2672f1-c471-4ed3-8442-3a47f07837b4"
      },
      "execution_count": 41,
      "outputs": [
        {
          "output_type": "stream",
          "name": "stdout",
          "text": [
            "                  count\n",
            "Hiking Frequency       \n",
            "3                    60\n",
            "4                    61\n",
            "5                    65\n",
            "6                    69\n",
            "7                    66\n",
            "8                    65\n",
            "9                    59\n",
            "10                   55\n"
          ]
        }
      ]
    },
    {
      "cell_type": "code",
      "execution_count": 42,
      "metadata": {
        "id": "44uEoxNiyHti",
        "colab": {
          "base_uri": "https://localhost:8080/"
        },
        "outputId": "e641c4f5-6c21-4756-ff53-bc98bfc2a409"
      },
      "outputs": [
        {
          "output_type": "stream",
          "name": "stdout",
          "text": [
            "There are : 2580 object on train examples\n",
            "There are : 646 object on val examples\n"
          ]
        }
      ],
      "source": [
        "from sklearn.model_selection import train_test_split\n",
        "\n",
        "train, val = train_test_split(df_clean, test_size=0.2, shuffle=True, random_state=88)\n",
        "\n",
        "print('There are :', len(train), 'object on train examples')\n",
        "print('There are :', len(val), 'object on val examples')"
      ]
    },
    {
      "cell_type": "markdown",
      "metadata": {
        "id": "dhtl8kwz7VX_"
      },
      "source": [
        "## **Implementing Model**"
      ]
    },
    {
      "cell_type": "code",
      "source": [
        "embedding_dimension = 32\n",
        "\n",
        "user_id = tf.keras.layers.Input(shape=[1], name=\"user_id\")\n",
        "user_embedding = tf.keras.layers.Embedding(unique_user_ids + 1, embedding_dimension)(user_id)\n",
        "\n",
        "mountain_id = tf.keras.layers.Input(shape=[1], name=\"mountain_id\")\n",
        "mountain_embedding = tf.keras.layers.Embedding(unique_mountain_ids + 1, embedding_dimension)(mountain_id)\n",
        "\n",
        "x = tf.keras.layers.Dot(name = 'dot_product', normalize = True, axes = 2)([user_embedding, mountain_embedding])\n",
        "x = tf.keras.layers.Flatten()(x)\n",
        "\n",
        "x = tf.keras.layers.Dense(256, activation=\"relu\")(x)\n",
        "x = tf.keras.layers.Dense(64, activation=\"relu\")(x)\n",
        "x = tf.keras.layers.Dense(1, kernel_initializer='he_normal')(x)"
      ],
      "metadata": {
        "id": "C69YYJHQlNjY"
      },
      "execution_count": 44,
      "outputs": []
    },
    {
      "cell_type": "code",
      "source": [
        "# Create model and compile it\n",
        "model = tf.keras.Model([user_id, mountain_id], x)\n",
        "model.summary()"
      ],
      "metadata": {
        "colab": {
          "base_uri": "https://localhost:8080/"
        },
        "id": "JdTWy9-Mm3j-",
        "outputId": "a57167c3-30a8-49f2-c9df-a9c7543dd919"
      },
      "execution_count": 45,
      "outputs": [
        {
          "output_type": "stream",
          "name": "stdout",
          "text": [
            "Model: \"model\"\n",
            "__________________________________________________________________________________________________\n",
            " Layer (type)                   Output Shape         Param #     Connected to                     \n",
            "==================================================================================================\n",
            " user_id (InputLayer)           [(None, 1)]          0           []                               \n",
            "                                                                                                  \n",
            " mountain_id (InputLayer)       [(None, 1)]          0           []                               \n",
            "                                                                                                  \n",
            " embedding (Embedding)          (None, 1, 32)        16032       ['user_id[0][0]']                \n",
            "                                                                                                  \n",
            " embedding_1 (Embedding)        (None, 1, 32)        7456        ['mountain_id[0][0]']            \n",
            "                                                                                                  \n",
            " dot_product (Dot)              (None, 1, 1)         0           ['embedding[0][0]',              \n",
            "                                                                  'embedding_1[0][0]']            \n",
            "                                                                                                  \n",
            " flatten (Flatten)              (None, 1)            0           ['dot_product[0][0]']            \n",
            "                                                                                                  \n",
            " dense (Dense)                  (None, 256)          512         ['flatten[0][0]']                \n",
            "                                                                                                  \n",
            " dense_1 (Dense)                (None, 64)           16448       ['dense[0][0]']                  \n",
            "                                                                                                  \n",
            " dense_2 (Dense)                (None, 1)            65          ['dense_1[0][0]']                \n",
            "                                                                                                  \n",
            "==================================================================================================\n",
            "Total params: 40,513\n",
            "Trainable params: 40,513\n",
            "Non-trainable params: 0\n",
            "__________________________________________________________________________________________________\n"
          ]
        }
      ]
    },
    {
      "cell_type": "code",
      "execution_count": 46,
      "metadata": {
        "id": "_HWxbw7U2ySY"
      },
      "outputs": [],
      "source": [
        "#Compile\n",
        "model.compile(loss=tf.keras.losses.MeanSquaredError(), metrics=[\"mae\", \"mse\"], optimizer='Adagrad')"
      ]
    },
    {
      "cell_type": "code",
      "execution_count": 47,
      "metadata": {
        "id": "O_vzy9HaMrTY",
        "colab": {
          "base_uri": "https://localhost:8080/"
        },
        "outputId": "20ccd650-f020-44d4-d65a-f54fbb9ab6a5"
      },
      "outputs": [
        {
          "output_type": "stream",
          "name": "stdout",
          "text": [
            "Epoch 1/150\n",
            "81/81 [==============================] - 1s 2ms/step - loss: 10.9763 - mae: 2.9954 - mse: 10.9763 - lr: 1.0000e-08\n",
            "Epoch 2/150\n",
            "81/81 [==============================] - 0s 2ms/step - loss: 10.9763 - mae: 2.9954 - mse: 10.9763 - lr: 1.1220e-08\n",
            "Epoch 3/150\n",
            "81/81 [==============================] - 0s 2ms/step - loss: 10.9763 - mae: 2.9954 - mse: 10.9763 - lr: 1.2589e-08\n",
            "Epoch 4/150\n",
            "81/81 [==============================] - 0s 2ms/step - loss: 10.9763 - mae: 2.9954 - mse: 10.9763 - lr: 1.4125e-08\n",
            "Epoch 5/150\n",
            "81/81 [==============================] - 0s 2ms/step - loss: 10.9763 - mae: 2.9954 - mse: 10.9763 - lr: 1.5849e-08\n",
            "Epoch 6/150\n",
            "81/81 [==============================] - 0s 2ms/step - loss: 10.9763 - mae: 2.9954 - mse: 10.9763 - lr: 1.7783e-08\n",
            "Epoch 7/150\n",
            "81/81 [==============================] - 0s 2ms/step - loss: 10.9763 - mae: 2.9954 - mse: 10.9763 - lr: 1.9953e-08\n",
            "Epoch 8/150\n",
            "81/81 [==============================] - 0s 2ms/step - loss: 10.9763 - mae: 2.9954 - mse: 10.9763 - lr: 2.2387e-08\n",
            "Epoch 9/150\n",
            "81/81 [==============================] - 0s 2ms/step - loss: 10.9762 - mae: 2.9954 - mse: 10.9762 - lr: 2.5119e-08\n",
            "Epoch 10/150\n",
            "81/81 [==============================] - 0s 2ms/step - loss: 10.9762 - mae: 2.9954 - mse: 10.9762 - lr: 2.8184e-08\n",
            "Epoch 11/150\n",
            "81/81 [==============================] - 0s 2ms/step - loss: 10.9762 - mae: 2.9954 - mse: 10.9762 - lr: 3.1623e-08\n",
            "Epoch 12/150\n",
            "81/81 [==============================] - 0s 2ms/step - loss: 10.9762 - mae: 2.9954 - mse: 10.9762 - lr: 3.5481e-08\n",
            "Epoch 13/150\n",
            "81/81 [==============================] - 0s 2ms/step - loss: 10.9762 - mae: 2.9954 - mse: 10.9762 - lr: 3.9811e-08\n",
            "Epoch 14/150\n",
            "81/81 [==============================] - 0s 2ms/step - loss: 10.9762 - mae: 2.9954 - mse: 10.9762 - lr: 4.4668e-08\n",
            "Epoch 15/150\n",
            "81/81 [==============================] - 0s 2ms/step - loss: 10.9762 - mae: 2.9954 - mse: 10.9762 - lr: 5.0119e-08\n",
            "Epoch 16/150\n",
            "81/81 [==============================] - 0s 2ms/step - loss: 10.9762 - mae: 2.9954 - mse: 10.9762 - lr: 5.6234e-08\n",
            "Epoch 17/150\n",
            "81/81 [==============================] - 0s 2ms/step - loss: 10.9762 - mae: 2.9954 - mse: 10.9762 - lr: 6.3096e-08\n",
            "Epoch 18/150\n",
            "81/81 [==============================] - 0s 2ms/step - loss: 10.9762 - mae: 2.9954 - mse: 10.9762 - lr: 7.0795e-08\n",
            "Epoch 19/150\n",
            "81/81 [==============================] - 0s 2ms/step - loss: 10.9761 - mae: 2.9954 - mse: 10.9761 - lr: 7.9433e-08\n",
            "Epoch 20/150\n",
            "81/81 [==============================] - 0s 2ms/step - loss: 10.9761 - mae: 2.9954 - mse: 10.9761 - lr: 8.9125e-08\n",
            "Epoch 21/150\n",
            "81/81 [==============================] - 0s 2ms/step - loss: 10.9761 - mae: 2.9954 - mse: 10.9761 - lr: 1.0000e-07\n",
            "Epoch 22/150\n",
            "81/81 [==============================] - 0s 2ms/step - loss: 10.9761 - mae: 2.9954 - mse: 10.9761 - lr: 1.1220e-07\n",
            "Epoch 23/150\n",
            "81/81 [==============================] - 0s 2ms/step - loss: 10.9761 - mae: 2.9954 - mse: 10.9761 - lr: 1.2589e-07\n",
            "Epoch 24/150\n",
            "81/81 [==============================] - 0s 2ms/step - loss: 10.9760 - mae: 2.9954 - mse: 10.9760 - lr: 1.4125e-07\n",
            "Epoch 25/150\n",
            "81/81 [==============================] - 0s 2ms/step - loss: 10.9760 - mae: 2.9954 - mse: 10.9760 - lr: 1.5849e-07\n",
            "Epoch 26/150\n",
            "81/81 [==============================] - 0s 2ms/step - loss: 10.9760 - mae: 2.9954 - mse: 10.9760 - lr: 1.7783e-07\n",
            "Epoch 27/150\n",
            "81/81 [==============================] - 0s 2ms/step - loss: 10.9760 - mae: 2.9953 - mse: 10.9760 - lr: 1.9953e-07\n",
            "Epoch 28/150\n",
            "81/81 [==============================] - 0s 2ms/step - loss: 10.9759 - mae: 2.9953 - mse: 10.9759 - lr: 2.2387e-07\n",
            "Epoch 29/150\n",
            "81/81 [==============================] - 0s 2ms/step - loss: 10.9759 - mae: 2.9953 - mse: 10.9759 - lr: 2.5119e-07\n",
            "Epoch 30/150\n",
            "81/81 [==============================] - 0s 2ms/step - loss: 10.9758 - mae: 2.9953 - mse: 10.9758 - lr: 2.8184e-07\n",
            "Epoch 31/150\n",
            "81/81 [==============================] - 0s 2ms/step - loss: 10.9758 - mae: 2.9953 - mse: 10.9758 - lr: 3.1623e-07\n",
            "Epoch 32/150\n",
            "81/81 [==============================] - 0s 2ms/step - loss: 10.9757 - mae: 2.9953 - mse: 10.9757 - lr: 3.5481e-07\n",
            "Epoch 33/150\n",
            "81/81 [==============================] - 0s 2ms/step - loss: 10.9756 - mae: 2.9953 - mse: 10.9756 - lr: 3.9811e-07\n",
            "Epoch 34/150\n",
            "81/81 [==============================] - 0s 2ms/step - loss: 10.9756 - mae: 2.9953 - mse: 10.9756 - lr: 4.4668e-07\n",
            "Epoch 35/150\n",
            "81/81 [==============================] - 0s 2ms/step - loss: 10.9755 - mae: 2.9953 - mse: 10.9755 - lr: 5.0119e-07\n",
            "Epoch 36/150\n",
            "81/81 [==============================] - 0s 2ms/step - loss: 10.9754 - mae: 2.9953 - mse: 10.9754 - lr: 5.6234e-07\n",
            "Epoch 37/150\n",
            "81/81 [==============================] - 0s 2ms/step - loss: 10.9753 - mae: 2.9952 - mse: 10.9753 - lr: 6.3096e-07\n",
            "Epoch 38/150\n",
            "81/81 [==============================] - 0s 2ms/step - loss: 10.9752 - mae: 2.9952 - mse: 10.9752 - lr: 7.0795e-07\n",
            "Epoch 39/150\n",
            "81/81 [==============================] - 0s 2ms/step - loss: 10.9750 - mae: 2.9952 - mse: 10.9750 - lr: 7.9433e-07\n",
            "Epoch 40/150\n",
            "81/81 [==============================] - 0s 2ms/step - loss: 10.9749 - mae: 2.9952 - mse: 10.9749 - lr: 8.9125e-07\n",
            "Epoch 41/150\n",
            "81/81 [==============================] - 0s 2ms/step - loss: 10.9747 - mae: 2.9951 - mse: 10.9747 - lr: 1.0000e-06\n",
            "Epoch 42/150\n",
            "81/81 [==============================] - 0s 2ms/step - loss: 10.9745 - mae: 2.9951 - mse: 10.9745 - lr: 1.1220e-06\n",
            "Epoch 43/150\n",
            "81/81 [==============================] - 0s 2ms/step - loss: 10.9743 - mae: 2.9951 - mse: 10.9743 - lr: 1.2589e-06\n",
            "Epoch 44/150\n",
            "81/81 [==============================] - 0s 2ms/step - loss: 10.9741 - mae: 2.9950 - mse: 10.9741 - lr: 1.4125e-06\n",
            "Epoch 45/150\n",
            "81/81 [==============================] - 0s 2ms/step - loss: 10.9739 - mae: 2.9950 - mse: 10.9739 - lr: 1.5849e-06\n",
            "Epoch 46/150\n",
            "81/81 [==============================] - 0s 2ms/step - loss: 10.9736 - mae: 2.9950 - mse: 10.9736 - lr: 1.7783e-06\n",
            "Epoch 47/150\n",
            "81/81 [==============================] - 0s 2ms/step - loss: 10.9733 - mae: 2.9949 - mse: 10.9733 - lr: 1.9953e-06\n",
            "Epoch 48/150\n",
            "81/81 [==============================] - 0s 2ms/step - loss: 10.9730 - mae: 2.9949 - mse: 10.9730 - lr: 2.2387e-06\n",
            "Epoch 49/150\n",
            "81/81 [==============================] - 0s 2ms/step - loss: 10.9726 - mae: 2.9948 - mse: 10.9726 - lr: 2.5119e-06\n",
            "Epoch 50/150\n",
            "81/81 [==============================] - 0s 2ms/step - loss: 10.9722 - mae: 2.9947 - mse: 10.9722 - lr: 2.8184e-06\n",
            "Epoch 51/150\n",
            "81/81 [==============================] - 0s 2ms/step - loss: 10.9717 - mae: 2.9946 - mse: 10.9717 - lr: 3.1623e-06\n",
            "Epoch 52/150\n",
            "81/81 [==============================] - 0s 2ms/step - loss: 10.9712 - mae: 2.9946 - mse: 10.9712 - lr: 3.5481e-06\n",
            "Epoch 53/150\n",
            "81/81 [==============================] - 0s 2ms/step - loss: 10.9706 - mae: 2.9945 - mse: 10.9706 - lr: 3.9811e-06\n",
            "Epoch 54/150\n",
            "81/81 [==============================] - 0s 2ms/step - loss: 10.9700 - mae: 2.9944 - mse: 10.9700 - lr: 4.4668e-06\n",
            "Epoch 55/150\n",
            "81/81 [==============================] - 0s 2ms/step - loss: 10.9693 - mae: 2.9942 - mse: 10.9693 - lr: 5.0119e-06\n",
            "Epoch 56/150\n",
            "81/81 [==============================] - 0s 2ms/step - loss: 10.9685 - mae: 2.9941 - mse: 10.9685 - lr: 5.6234e-06\n",
            "Epoch 57/150\n",
            "81/81 [==============================] - 0s 2ms/step - loss: 10.9677 - mae: 2.9940 - mse: 10.9677 - lr: 6.3096e-06\n",
            "Epoch 58/150\n",
            "81/81 [==============================] - 0s 2ms/step - loss: 10.9667 - mae: 2.9938 - mse: 10.9667 - lr: 7.0795e-06\n",
            "Epoch 59/150\n",
            "81/81 [==============================] - 0s 2ms/step - loss: 10.9656 - mae: 2.9936 - mse: 10.9656 - lr: 7.9433e-06\n",
            "Epoch 60/150\n",
            "81/81 [==============================] - 0s 2ms/step - loss: 10.9645 - mae: 2.9934 - mse: 10.9645 - lr: 8.9125e-06\n",
            "Epoch 61/150\n",
            "81/81 [==============================] - 0s 2ms/step - loss: 10.9631 - mae: 2.9932 - mse: 10.9631 - lr: 1.0000e-05\n",
            "Epoch 62/150\n",
            "81/81 [==============================] - 0s 2ms/step - loss: 10.9616 - mae: 2.9930 - mse: 10.9616 - lr: 1.1220e-05\n",
            "Epoch 63/150\n",
            "81/81 [==============================] - 0s 2ms/step - loss: 10.9600 - mae: 2.9927 - mse: 10.9600 - lr: 1.2589e-05\n",
            "Epoch 64/150\n",
            "81/81 [==============================] - 0s 2ms/step - loss: 10.9581 - mae: 2.9924 - mse: 10.9581 - lr: 1.4125e-05\n",
            "Epoch 65/150\n",
            "81/81 [==============================] - 0s 2ms/step - loss: 10.9560 - mae: 2.9920 - mse: 10.9560 - lr: 1.5849e-05\n",
            "Epoch 66/150\n",
            "81/81 [==============================] - 0s 2ms/step - loss: 10.9537 - mae: 2.9917 - mse: 10.9537 - lr: 1.7783e-05\n",
            "Epoch 67/150\n",
            "81/81 [==============================] - 0s 2ms/step - loss: 10.9512 - mae: 2.9912 - mse: 10.9512 - lr: 1.9953e-05\n",
            "Epoch 68/150\n",
            "81/81 [==============================] - 0s 2ms/step - loss: 10.9484 - mae: 2.9908 - mse: 10.9484 - lr: 2.2387e-05\n",
            "Epoch 69/150\n",
            "81/81 [==============================] - 0s 2ms/step - loss: 10.9452 - mae: 2.9903 - mse: 10.9452 - lr: 2.5119e-05\n",
            "Epoch 70/150\n",
            "81/81 [==============================] - 0s 2ms/step - loss: 10.9418 - mae: 2.9897 - mse: 10.9418 - lr: 2.8184e-05\n",
            "Epoch 71/150\n",
            "81/81 [==============================] - 0s 2ms/step - loss: 10.9379 - mae: 2.9890 - mse: 10.9379 - lr: 3.1623e-05\n",
            "Epoch 72/150\n",
            "81/81 [==============================] - 0s 2ms/step - loss: 10.9336 - mae: 2.9883 - mse: 10.9336 - lr: 3.5481e-05\n",
            "Epoch 73/150\n",
            "81/81 [==============================] - 0s 2ms/step - loss: 10.9289 - mae: 2.9875 - mse: 10.9289 - lr: 3.9811e-05\n",
            "Epoch 74/150\n",
            "81/81 [==============================] - 0s 2ms/step - loss: 10.9236 - mae: 2.9867 - mse: 10.9236 - lr: 4.4668e-05\n",
            "Epoch 75/150\n",
            "81/81 [==============================] - 0s 2ms/step - loss: 10.9177 - mae: 2.9857 - mse: 10.9177 - lr: 5.0119e-05\n",
            "Epoch 76/150\n",
            "81/81 [==============================] - 0s 2ms/step - loss: 10.9112 - mae: 2.9846 - mse: 10.9112 - lr: 5.6234e-05\n",
            "Epoch 77/150\n",
            "81/81 [==============================] - 0s 2ms/step - loss: 10.9039 - mae: 2.9834 - mse: 10.9039 - lr: 6.3096e-05\n",
            "Epoch 78/150\n",
            "81/81 [==============================] - 0s 2ms/step - loss: 10.8957 - mae: 2.9820 - mse: 10.8957 - lr: 7.0795e-05\n",
            "Epoch 79/150\n",
            "81/81 [==============================] - 0s 2ms/step - loss: 10.8866 - mae: 2.9805 - mse: 10.8866 - lr: 7.9433e-05\n",
            "Epoch 80/150\n",
            "81/81 [==============================] - 0s 2ms/step - loss: 10.8763 - mae: 2.9788 - mse: 10.8763 - lr: 8.9125e-05\n",
            "Epoch 81/150\n",
            "81/81 [==============================] - 0s 2ms/step - loss: 10.8646 - mae: 2.9768 - mse: 10.8646 - lr: 1.0000e-04\n",
            "Epoch 82/150\n",
            "81/81 [==============================] - 0s 2ms/step - loss: 10.8512 - mae: 2.9746 - mse: 10.8512 - lr: 1.1220e-04\n",
            "Epoch 83/150\n",
            "81/81 [==============================] - 0s 2ms/step - loss: 10.8357 - mae: 2.9720 - mse: 10.8357 - lr: 1.2589e-04\n",
            "Epoch 84/150\n",
            "81/81 [==============================] - 0s 2ms/step - loss: 10.8175 - mae: 2.9689 - mse: 10.8175 - lr: 1.4125e-04\n",
            "Epoch 85/150\n",
            "81/81 [==============================] - 0s 2ms/step - loss: 10.7959 - mae: 2.9653 - mse: 10.7959 - lr: 1.5849e-04\n",
            "Epoch 86/150\n",
            "81/81 [==============================] - 0s 2ms/step - loss: 10.7702 - mae: 2.9609 - mse: 10.7702 - lr: 1.7783e-04\n",
            "Epoch 87/150\n",
            "81/81 [==============================] - 0s 2ms/step - loss: 10.7398 - mae: 2.9558 - mse: 10.7398 - lr: 1.9953e-04\n",
            "Epoch 88/150\n",
            "81/81 [==============================] - 0s 2ms/step - loss: 10.7043 - mae: 2.9498 - mse: 10.7043 - lr: 2.2387e-04\n",
            "Epoch 89/150\n",
            "81/81 [==============================] - 0s 2ms/step - loss: 10.6622 - mae: 2.9427 - mse: 10.6622 - lr: 2.5119e-04\n",
            "Epoch 90/150\n",
            "81/81 [==============================] - 0s 2ms/step - loss: 10.6114 - mae: 2.9340 - mse: 10.6114 - lr: 2.8184e-04\n",
            "Epoch 91/150\n",
            "81/81 [==============================] - 0s 2ms/step - loss: 10.5495 - mae: 2.9235 - mse: 10.5495 - lr: 3.1623e-04\n",
            "Epoch 92/150\n",
            "81/81 [==============================] - 0s 2ms/step - loss: 10.4746 - mae: 2.9106 - mse: 10.4746 - lr: 3.5481e-04\n",
            "Epoch 93/150\n",
            "81/81 [==============================] - 0s 2ms/step - loss: 10.3840 - mae: 2.8951 - mse: 10.3840 - lr: 3.9811e-04\n",
            "Epoch 94/150\n",
            "81/81 [==============================] - 0s 2ms/step - loss: 10.2744 - mae: 2.8761 - mse: 10.2744 - lr: 4.4668e-04\n",
            "Epoch 95/150\n",
            "81/81 [==============================] - 0s 2ms/step - loss: 10.1434 - mae: 2.8532 - mse: 10.1434 - lr: 5.0119e-04\n",
            "Epoch 96/150\n",
            "81/81 [==============================] - 0s 2ms/step - loss: 9.9868 - mae: 2.8257 - mse: 9.9868 - lr: 5.6234e-04\n",
            "Epoch 97/150\n",
            "81/81 [==============================] - 0s 2ms/step - loss: 9.7962 - mae: 2.7918 - mse: 9.7962 - lr: 6.3096e-04\n",
            "Epoch 98/150\n",
            "81/81 [==============================] - 0s 2ms/step - loss: 9.5593 - mae: 2.7493 - mse: 9.5593 - lr: 7.0795e-04\n",
            "Epoch 99/150\n",
            "81/81 [==============================] - 0s 2ms/step - loss: 9.2607 - mae: 2.6946 - mse: 9.2607 - lr: 7.9433e-04\n",
            "Epoch 100/150\n",
            "81/81 [==============================] - 0s 2ms/step - loss: 8.8827 - mae: 2.6235 - mse: 8.8827 - lr: 8.9125e-04\n",
            "Epoch 101/150\n",
            "81/81 [==============================] - 0s 2ms/step - loss: 8.4019 - mae: 2.5315 - mse: 8.4019 - lr: 0.0010\n",
            "Epoch 102/150\n",
            "81/81 [==============================] - 0s 2ms/step - loss: 7.7925 - mae: 2.4081 - mse: 7.7925 - lr: 0.0011\n",
            "Epoch 103/150\n",
            "81/81 [==============================] - 0s 2ms/step - loss: 7.0355 - mae: 2.2466 - mse: 7.0355 - lr: 0.0013\n",
            "Epoch 104/150\n",
            "81/81 [==============================] - 0s 2ms/step - loss: 6.1263 - mae: 2.0455 - mse: 6.1263 - lr: 0.0014\n",
            "Epoch 105/150\n",
            "81/81 [==============================] - 0s 2ms/step - loss: 5.0923 - mae: 1.8425 - mse: 5.0923 - lr: 0.0016\n",
            "Epoch 106/150\n",
            "81/81 [==============================] - 0s 2ms/step - loss: 4.0279 - mae: 1.6426 - mse: 4.0279 - lr: 0.0018\n",
            "Epoch 107/150\n",
            "81/81 [==============================] - 0s 2ms/step - loss: 3.0852 - mae: 1.4318 - mse: 3.0852 - lr: 0.0020\n",
            "Epoch 108/150\n",
            "81/81 [==============================] - 0s 2ms/step - loss: 2.3990 - mae: 1.2831 - mse: 2.3990 - lr: 0.0022\n",
            "Epoch 109/150\n",
            "81/81 [==============================] - 0s 2ms/step - loss: 2.0028 - mae: 1.2057 - mse: 2.0028 - lr: 0.0025\n",
            "Epoch 110/150\n",
            "81/81 [==============================] - 0s 2ms/step - loss: 1.8021 - mae: 1.1509 - mse: 1.8021 - lr: 0.0028\n",
            "Epoch 111/150\n",
            "81/81 [==============================] - 0s 2ms/step - loss: 1.6785 - mae: 1.1088 - mse: 1.6785 - lr: 0.0032\n",
            "Epoch 112/150\n",
            "81/81 [==============================] - 0s 2ms/step - loss: 1.5695 - mae: 1.0641 - mse: 1.5695 - lr: 0.0035\n",
            "Epoch 113/150\n",
            "81/81 [==============================] - 0s 2ms/step - loss: 1.4470 - mae: 1.0125 - mse: 1.4470 - lr: 0.0040\n",
            "Epoch 114/150\n",
            "81/81 [==============================] - 0s 2ms/step - loss: 1.3052 - mae: 0.9489 - mse: 1.3052 - lr: 0.0045\n",
            "Epoch 115/150\n",
            "81/81 [==============================] - 0s 2ms/step - loss: 1.1471 - mae: 0.8707 - mse: 1.1471 - lr: 0.0050\n",
            "Epoch 116/150\n",
            "81/81 [==============================] - 0s 2ms/step - loss: 0.9830 - mae: 0.7799 - mse: 0.9830 - lr: 0.0056\n",
            "Epoch 117/150\n",
            "81/81 [==============================] - 0s 2ms/step - loss: 0.8224 - mae: 0.6886 - mse: 0.8224 - lr: 0.0063\n",
            "Epoch 118/150\n",
            "81/81 [==============================] - 0s 2ms/step - loss: 0.6764 - mae: 0.5937 - mse: 0.6764 - lr: 0.0071\n",
            "Epoch 119/150\n",
            "81/81 [==============================] - 0s 2ms/step - loss: 0.5513 - mae: 0.5147 - mse: 0.5513 - lr: 0.0079\n",
            "Epoch 120/150\n",
            "81/81 [==============================] - 0s 2ms/step - loss: 0.4475 - mae: 0.4396 - mse: 0.4475 - lr: 0.0089\n",
            "Epoch 121/150\n",
            "81/81 [==============================] - 0s 2ms/step - loss: 0.3611 - mae: 0.3847 - mse: 0.3611 - lr: 0.0100\n",
            "Epoch 122/150\n",
            "81/81 [==============================] - 0s 2ms/step - loss: 0.2913 - mae: 0.3412 - mse: 0.2913 - lr: 0.0112\n",
            "Epoch 123/150\n",
            "81/81 [==============================] - 0s 2ms/step - loss: 0.2347 - mae: 0.3061 - mse: 0.2347 - lr: 0.0126\n",
            "Epoch 124/150\n",
            "81/81 [==============================] - 0s 2ms/step - loss: 0.1945 - mae: 0.2790 - mse: 0.1945 - lr: 0.0141\n",
            "Epoch 125/150\n",
            "81/81 [==============================] - 0s 2ms/step - loss: 0.1586 - mae: 0.2503 - mse: 0.1586 - lr: 0.0158\n",
            "Epoch 126/150\n",
            "81/81 [==============================] - 0s 2ms/step - loss: 0.1374 - mae: 0.2261 - mse: 0.1374 - lr: 0.0178\n",
            "Epoch 127/150\n",
            "81/81 [==============================] - 0s 2ms/step - loss: 0.1302 - mae: 0.2144 - mse: 0.1302 - lr: 0.0200\n",
            "Epoch 128/150\n",
            "81/81 [==============================] - 0s 2ms/step - loss: 0.1567 - mae: 0.2371 - mse: 0.1567 - lr: 0.0224\n",
            "Epoch 129/150\n",
            "81/81 [==============================] - 0s 2ms/step - loss: 0.2047 - mae: 0.2886 - mse: 0.2047 - lr: 0.0251\n",
            "Epoch 130/150\n",
            "81/81 [==============================] - 0s 2ms/step - loss: 0.2275 - mae: 0.3272 - mse: 0.2275 - lr: 0.0282\n",
            "Epoch 131/150\n",
            "81/81 [==============================] - 0s 2ms/step - loss: 0.2152 - mae: 0.3250 - mse: 0.2152 - lr: 0.0316\n",
            "Epoch 132/150\n",
            "81/81 [==============================] - 0s 2ms/step - loss: 0.1865 - mae: 0.2959 - mse: 0.1865 - lr: 0.0355\n",
            "Epoch 133/150\n",
            "81/81 [==============================] - 0s 2ms/step - loss: 0.1704 - mae: 0.2773 - mse: 0.1704 - lr: 0.0398\n",
            "Epoch 134/150\n",
            "81/81 [==============================] - 0s 2ms/step - loss: 0.1720 - mae: 0.2780 - mse: 0.1720 - lr: 0.0447\n",
            "Epoch 135/150\n",
            "81/81 [==============================] - 0s 2ms/step - loss: 0.1807 - mae: 0.2827 - mse: 0.1807 - lr: 0.0501\n",
            "Epoch 136/150\n",
            "81/81 [==============================] - 0s 2ms/step - loss: 0.1975 - mae: 0.3028 - mse: 0.1975 - lr: 0.0562\n",
            "Epoch 137/150\n",
            "81/81 [==============================] - 0s 2ms/step - loss: 0.1998 - mae: 0.3170 - mse: 0.1998 - lr: 0.0631\n",
            "Epoch 138/150\n",
            "81/81 [==============================] - 0s 2ms/step - loss: 0.2115 - mae: 0.3224 - mse: 0.2115 - lr: 0.0708\n",
            "Epoch 139/150\n",
            "81/81 [==============================] - 0s 2ms/step - loss: 0.2105 - mae: 0.3251 - mse: 0.2105 - lr: 0.0794\n",
            "Epoch 140/150\n",
            "81/81 [==============================] - 0s 2ms/step - loss: 0.2197 - mae: 0.3343 - mse: 0.2197 - lr: 0.0891\n",
            "Epoch 141/150\n",
            "81/81 [==============================] - 0s 2ms/step - loss: 0.2285 - mae: 0.3442 - mse: 0.2285 - lr: 0.1000\n",
            "Epoch 142/150\n",
            "81/81 [==============================] - 0s 2ms/step - loss: 0.2327 - mae: 0.3494 - mse: 0.2327 - lr: 0.1122\n",
            "Epoch 143/150\n",
            "81/81 [==============================] - 0s 2ms/step - loss: 0.2250 - mae: 0.3375 - mse: 0.2250 - lr: 0.1259\n",
            "Epoch 144/150\n",
            "81/81 [==============================] - 0s 2ms/step - loss: 0.2443 - mae: 0.3492 - mse: 0.2443 - lr: 0.1413\n",
            "Epoch 145/150\n",
            "81/81 [==============================] - 0s 2ms/step - loss: 0.2332 - mae: 0.3408 - mse: 0.2332 - lr: 0.1585\n",
            "Epoch 146/150\n",
            "81/81 [==============================] - 0s 2ms/step - loss: 0.2441 - mae: 0.3423 - mse: 0.2441 - lr: 0.1778\n",
            "Epoch 147/150\n",
            "81/81 [==============================] - 0s 2ms/step - loss: 0.2309 - mae: 0.3269 - mse: 0.2309 - lr: 0.1995\n",
            "Epoch 148/150\n",
            "81/81 [==============================] - 0s 2ms/step - loss: 0.2270 - mae: 0.3189 - mse: 0.2270 - lr: 0.2239\n",
            "Epoch 149/150\n",
            "81/81 [==============================] - 0s 2ms/step - loss: 0.2119 - mae: 0.3130 - mse: 0.2119 - lr: 0.2512\n",
            "Epoch 150/150\n",
            "81/81 [==============================] - 0s 2ms/step - loss: 0.2497 - mae: 0.3392 - mse: 0.2497 - lr: 0.2818\n"
          ]
        }
      ],
      "source": [
        "# Set the learning rate scheduler\n",
        "lr_schedule = tf.keras.callbacks.LearningRateScheduler(\n",
        "    lambda epoch: 1e-8 * 10**(epoch / 20))\n",
        "# Train the model\n",
        "history = model.fit([train.user_id, train.mountain_id], train.rating, epochs=150, callbacks=[lr_schedule])"
      ]
    },
    {
      "cell_type": "code",
      "execution_count": 48,
      "metadata": {
        "colab": {
          "base_uri": "https://localhost:8080/",
          "height": 405
        },
        "id": "8rvPqTlZM3PA",
        "outputId": "79e8855d-efcf-4c17-8321-5d4252b75c29"
      },
      "outputs": [
        {
          "output_type": "execute_result",
          "data": {
            "text/plain": [
              "(1e-08, 0.3, 0.0, 10.0)"
            ]
          },
          "metadata": {},
          "execution_count": 48
        },
        {
          "output_type": "display_data",
          "data": {
            "text/plain": [
              "<Figure size 720x432 with 1 Axes>"
            ],
            "image/png": "[encoded data removed]"
          },
          "metadata": {
            "needs_background": "light"
          }
        }
      ],
      "source": [
        "# Define the learning rate array\n",
        "lrs = 1e-8 * (10 ** (np.arange(150) / 20))\n",
        "\n",
        "# Plot\n",
        "plt.figure(figsize=(10, 6))\n",
        "plt.grid(True)\n",
        "plt.semilogx(lrs, history.history[\"loss\"])\n",
        "plt.tick_params('both', length=10, width=1, which='both')\n",
        "plt.axis([1e-8, 0.3, 0, 10])"
      ]
    },
    {
      "cell_type": "code",
      "execution_count": 49,
      "metadata": {
        "id": "y1RHN6eM21oi",
        "colab": {
          "base_uri": "https://localhost:8080/"
        },
        "outputId": "7ecfe996-41e6-4ef3-9286-0aea81faa42e"
      },
      "outputs": [
        {
          "output_type": "stream",
          "name": "stdout",
          "text": [
            "Epoch 1/100\n",
            "81/81 [==============================] - 1s 2ms/step - loss: 0.2496 - mae: 0.3290 - mse: 0.2496\n",
            "Epoch 2/100\n",
            "81/81 [==============================] - 0s 4ms/step - loss: 0.1345 - mae: 0.2138 - mse: 0.1345\n",
            "Epoch 3/100\n",
            "81/81 [==============================] - 0s 4ms/step - loss: 0.0956 - mae: 0.1626 - mse: 0.0956\n",
            "Epoch 4/100\n",
            "81/81 [==============================] - 0s 4ms/step - loss: 0.0756 - mae: 0.1311 - mse: 0.0756\n",
            "Epoch 5/100\n",
            "81/81 [==============================] - 0s 2ms/step - loss: 0.0641 - mae: 0.1112 - mse: 0.0641\n",
            "Epoch 6/100\n",
            "81/81 [==============================] - 0s 2ms/step - loss: 0.0562 - mae: 0.0966 - mse: 0.0562\n",
            "Epoch 7/100\n",
            "81/81 [==============================] - 0s 2ms/step - loss: 0.0506 - mae: 0.0856 - mse: 0.0506\n",
            "Epoch 8/100\n",
            "81/81 [==============================] - 0s 2ms/step - loss: 0.0469 - mae: 0.0781 - mse: 0.0469\n",
            "Epoch 9/100\n",
            "81/81 [==============================] - 0s 3ms/step - loss: 0.0442 - mae: 0.0697 - mse: 0.0442\n",
            "Epoch 10/100\n",
            "81/81 [==============================] - 0s 3ms/step - loss: 0.0426 - mae: 0.0643 - mse: 0.0426\n",
            "Epoch 11/100\n",
            "81/81 [==============================] - 0s 5ms/step - loss: 0.0411 - mae: 0.0601 - mse: 0.0411\n",
            "Epoch 12/100\n",
            "81/81 [==============================] - 0s 4ms/step - loss: 0.0401 - mae: 0.0548 - mse: 0.0401\n",
            "Epoch 13/100\n",
            "81/81 [==============================] - 0s 2ms/step - loss: 0.0393 - mae: 0.0540 - mse: 0.0393\n",
            "Epoch 14/100\n",
            "81/81 [==============================] - 0s 5ms/step - loss: 0.0384 - mae: 0.0500 - mse: 0.0384\n",
            "Epoch 15/100\n",
            "81/81 [==============================] - 0s 5ms/step - loss: 0.0380 - mae: 0.0491 - mse: 0.0380\n",
            "Epoch 16/100\n",
            "81/81 [==============================] - 0s 4ms/step - loss: 0.0375 - mae: 0.0468 - mse: 0.0375\n",
            "Epoch 17/100\n",
            "81/81 [==============================] - 0s 3ms/step - loss: 0.0372 - mae: 0.0455 - mse: 0.0372\n",
            "Epoch 18/100\n",
            "81/81 [==============================] - 0s 3ms/step - loss: 0.0371 - mae: 0.0445 - mse: 0.0371\n",
            "Epoch 19/100\n",
            "81/81 [==============================] - 0s 3ms/step - loss: 0.0371 - mae: 0.0447 - mse: 0.0371\n",
            "Epoch 20/100\n",
            "81/81 [==============================] - 0s 2ms/step - loss: 0.0365 - mae: 0.0443 - mse: 0.0365\n",
            "Epoch 21/100\n",
            "81/81 [==============================] - 0s 3ms/step - loss: 0.0367 - mae: 0.0427 - mse: 0.0367\n",
            "Epoch 22/100\n",
            "81/81 [==============================] - 0s 3ms/step - loss: 0.0362 - mae: 0.0426 - mse: 0.0362\n",
            "Epoch 23/100\n",
            "81/81 [==============================] - 0s 4ms/step - loss: 0.0363 - mae: 0.0409 - mse: 0.0363\n",
            "Epoch 24/100\n",
            "81/81 [==============================] - 0s 4ms/step - loss: 0.0364 - mae: 0.0412 - mse: 0.0364\n",
            "Epoch 25/100\n",
            "81/81 [==============================] - 0s 4ms/step - loss: 0.0362 - mae: 0.0422 - mse: 0.0362\n",
            "Epoch 26/100\n",
            "81/81 [==============================] - 0s 4ms/step - loss: 0.0362 - mae: 0.0400 - mse: 0.0362\n",
            "Epoch 27/100\n",
            "81/81 [==============================] - 0s 4ms/step - loss: 0.0364 - mae: 0.0398 - mse: 0.0364\n",
            "Epoch 28/100\n",
            "81/81 [==============================] - 0s 3ms/step - loss: 0.0360 - mae: 0.0403 - mse: 0.0360\n",
            "Epoch 29/100\n",
            "81/81 [==============================] - 0s 4ms/step - loss: 0.0362 - mae: 0.0396 - mse: 0.0362\n",
            "Epoch 30/100\n",
            "81/81 [==============================] - 0s 4ms/step - loss: 0.0361 - mae: 0.0391 - mse: 0.0361\n",
            "Epoch 31/100\n",
            "81/81 [==============================] - 0s 3ms/step - loss: 0.0359 - mae: 0.0380 - mse: 0.0359\n",
            "Epoch 32/100\n",
            "81/81 [==============================] - 0s 4ms/step - loss: 0.0358 - mae: 0.0407 - mse: 0.0358\n",
            "Epoch 33/100\n",
            "81/81 [==============================] - 0s 4ms/step - loss: 0.0358 - mae: 0.0377 - mse: 0.0358\n",
            "Epoch 34/100\n",
            "81/81 [==============================] - 0s 4ms/step - loss: 0.0360 - mae: 0.0372 - mse: 0.0360\n",
            "Epoch 35/100\n",
            "81/81 [==============================] - 0s 4ms/step - loss: 0.0357 - mae: 0.0365 - mse: 0.0357\n",
            "Epoch 36/100\n",
            "81/81 [==============================] - 0s 4ms/step - loss: 0.0355 - mae: 0.0375 - mse: 0.0355\n",
            "Epoch 37/100\n",
            "81/81 [==============================] - 0s 5ms/step - loss: 0.0357 - mae: 0.0388 - mse: 0.0357\n",
            "Epoch 38/100\n",
            "81/81 [==============================] - 0s 6ms/step - loss: 0.0355 - mae: 0.0378 - mse: 0.0355\n",
            "Epoch 39/100\n",
            "81/81 [==============================] - 0s 5ms/step - loss: 0.0356 - mae: 0.0368 - mse: 0.0356\n",
            "Epoch 40/100\n",
            "81/81 [==============================] - 0s 3ms/step - loss: 0.0357 - mae: 0.0370 - mse: 0.0357\n",
            "Epoch 41/100\n",
            "81/81 [==============================] - 0s 4ms/step - loss: 0.0356 - mae: 0.0374 - mse: 0.0356\n",
            "Epoch 42/100\n",
            "81/81 [==============================] - 0s 5ms/step - loss: 0.0356 - mae: 0.0370 - mse: 0.0356\n",
            "Epoch 43/100\n",
            "81/81 [==============================] - 0s 3ms/step - loss: 0.0356 - mae: 0.0358 - mse: 0.0356\n",
            "Epoch 44/100\n",
            "81/81 [==============================] - 0s 3ms/step - loss: 0.0355 - mae: 0.0355 - mse: 0.0355\n",
            "Epoch 45/100\n",
            "81/81 [==============================] - 0s 2ms/step - loss: 0.0354 - mae: 0.0371 - mse: 0.0354\n",
            "Epoch 46/100\n",
            "81/81 [==============================] - 0s 2ms/step - loss: 0.0355 - mae: 0.0382 - mse: 0.0355\n",
            "Epoch 47/100\n",
            "81/81 [==============================] - 0s 2ms/step - loss: 0.0355 - mae: 0.0374 - mse: 0.0355\n",
            "Epoch 48/100\n",
            "81/81 [==============================] - 0s 2ms/step - loss: 0.0354 - mae: 0.0361 - mse: 0.0354\n",
            "Epoch 49/100\n",
            "81/81 [==============================] - 0s 2ms/step - loss: 0.0353 - mae: 0.0360 - mse: 0.0353\n",
            "Epoch 50/100\n",
            "81/81 [==============================] - 0s 2ms/step - loss: 0.0354 - mae: 0.0361 - mse: 0.0354\n",
            "Epoch 51/100\n",
            "81/81 [==============================] - 0s 2ms/step - loss: 0.0353 - mae: 0.0370 - mse: 0.0353\n",
            "Epoch 52/100\n",
            "81/81 [==============================] - 0s 2ms/step - loss: 0.0354 - mae: 0.0362 - mse: 0.0354\n",
            "Epoch 53/100\n",
            "81/81 [==============================] - 0s 2ms/step - loss: 0.0354 - mae: 0.0337 - mse: 0.0354\n",
            "Epoch 54/100\n",
            "81/81 [==============================] - 0s 2ms/step - loss: 0.0352 - mae: 0.0378 - mse: 0.0352\n",
            "Epoch 55/100\n",
            "81/81 [==============================] - 0s 2ms/step - loss: 0.0354 - mae: 0.0373 - mse: 0.0354\n",
            "Epoch 56/100\n",
            "81/81 [==============================] - 0s 2ms/step - loss: 0.0354 - mae: 0.0355 - mse: 0.0354\n",
            "Epoch 57/100\n",
            "81/81 [==============================] - 0s 2ms/step - loss: 0.0353 - mae: 0.0341 - mse: 0.0353\n",
            "Epoch 58/100\n",
            "81/81 [==============================] - 0s 2ms/step - loss: 0.0353 - mae: 0.0364 - mse: 0.0353\n",
            "Epoch 59/100\n",
            "81/81 [==============================] - 0s 2ms/step - loss: 0.0352 - mae: 0.0367 - mse: 0.0352\n",
            "Epoch 60/100\n",
            "81/81 [==============================] - 0s 2ms/step - loss: 0.0354 - mae: 0.0368 - mse: 0.0354\n",
            "Epoch 61/100\n",
            "81/81 [==============================] - 0s 2ms/step - loss: 0.0353 - mae: 0.0364 - mse: 0.0353\n",
            "Epoch 62/100\n",
            "81/81 [==============================] - 0s 2ms/step - loss: 0.0353 - mae: 0.0347 - mse: 0.0353\n",
            "Epoch 63/100\n",
            "81/81 [==============================] - 0s 2ms/step - loss: 0.0353 - mae: 0.0343 - mse: 0.0353\n",
            "Epoch 64/100\n",
            "81/81 [==============================] - 0s 2ms/step - loss: 0.0353 - mae: 0.0346 - mse: 0.0353\n",
            "Epoch 65/100\n",
            "81/81 [==============================] - 0s 2ms/step - loss: 0.0350 - mae: 0.0361 - mse: 0.0350\n",
            "Epoch 66/100\n",
            "81/81 [==============================] - 0s 2ms/step - loss: 0.0351 - mae: 0.0367 - mse: 0.0351\n",
            "Epoch 67/100\n",
            "81/81 [==============================] - 0s 2ms/step - loss: 0.0352 - mae: 0.0340 - mse: 0.0352\n",
            "Epoch 68/100\n",
            "81/81 [==============================] - 0s 2ms/step - loss: 0.0352 - mae: 0.0356 - mse: 0.0352\n",
            "Epoch 69/100\n",
            "81/81 [==============================] - 0s 2ms/step - loss: 0.0352 - mae: 0.0334 - mse: 0.0352\n",
            "Epoch 70/100\n",
            "81/81 [==============================] - 0s 2ms/step - loss: 0.0351 - mae: 0.0354 - mse: 0.0351\n",
            "Epoch 71/100\n",
            "81/81 [==============================] - 0s 2ms/step - loss: 0.0350 - mae: 0.0371 - mse: 0.0350\n",
            "Epoch 72/100\n",
            "81/81 [==============================] - 0s 2ms/step - loss: 0.0351 - mae: 0.0369 - mse: 0.0351\n",
            "Epoch 73/100\n",
            "81/81 [==============================] - 0s 2ms/step - loss: 0.0352 - mae: 0.0351 - mse: 0.0352\n",
            "Epoch 74/100\n",
            "81/81 [==============================] - 0s 2ms/step - loss: 0.0350 - mae: 0.0348 - mse: 0.0350\n",
            "Epoch 75/100\n",
            "81/81 [==============================] - 0s 2ms/step - loss: 0.0351 - mae: 0.0331 - mse: 0.0351\n",
            "Epoch 76/100\n",
            "81/81 [==============================] - 0s 2ms/step - loss: 0.0350 - mae: 0.0362 - mse: 0.0350\n",
            "Epoch 77/100\n",
            "81/81 [==============================] - 0s 2ms/step - loss: 0.0351 - mae: 0.0331 - mse: 0.0351\n",
            "Epoch 78/100\n",
            "81/81 [==============================] - 0s 2ms/step - loss: 0.0350 - mae: 0.0335 - mse: 0.0350\n",
            "Epoch 79/100\n",
            "81/81 [==============================] - 0s 2ms/step - loss: 0.0349 - mae: 0.0351 - mse: 0.0349\n",
            "Epoch 80/100\n",
            "81/81 [==============================] - 0s 2ms/step - loss: 0.0351 - mae: 0.0345 - mse: 0.0351\n",
            "Epoch 81/100\n",
            "81/81 [==============================] - 0s 2ms/step - loss: 0.0349 - mae: 0.0344 - mse: 0.0349\n",
            "Epoch 82/100\n",
            "81/81 [==============================] - 0s 3ms/step - loss: 0.0350 - mae: 0.0349 - mse: 0.0350\n",
            "Epoch 83/100\n",
            "81/81 [==============================] - 0s 4ms/step - loss: 0.0350 - mae: 0.0349 - mse: 0.0350\n",
            "Epoch 84/100\n",
            "81/81 [==============================] - 0s 4ms/step - loss: 0.0350 - mae: 0.0350 - mse: 0.0350\n",
            "Epoch 85/100\n",
            "81/81 [==============================] - 0s 3ms/step - loss: 0.0350 - mae: 0.0340 - mse: 0.0350\n",
            "Epoch 86/100\n",
            "81/81 [==============================] - 0s 2ms/step - loss: 0.0351 - mae: 0.0330 - mse: 0.0351\n",
            "Epoch 87/100\n",
            "81/81 [==============================] - 0s 2ms/step - loss: 0.0349 - mae: 0.0343 - mse: 0.0349\n",
            "Epoch 88/100\n",
            "81/81 [==============================] - 0s 3ms/step - loss: 0.0349 - mae: 0.0348 - mse: 0.0349\n",
            "Epoch 89/100\n",
            "81/81 [==============================] - 0s 4ms/step - loss: 0.0350 - mae: 0.0357 - mse: 0.0350\n",
            "Epoch 90/100\n",
            "81/81 [==============================] - 0s 3ms/step - loss: 0.0349 - mae: 0.0348 - mse: 0.0349\n",
            "Epoch 91/100\n",
            "81/81 [==============================] - 0s 2ms/step - loss: 0.0349 - mae: 0.0346 - mse: 0.0349\n",
            "Epoch 92/100\n",
            "81/81 [==============================] - 0s 4ms/step - loss: 0.0348 - mae: 0.0324 - mse: 0.0348\n",
            "Epoch 93/100\n",
            "81/81 [==============================] - 0s 5ms/step - loss: 0.0349 - mae: 0.0317 - mse: 0.0349\n",
            "Epoch 94/100\n",
            "81/81 [==============================] - 0s 4ms/step - loss: 0.0349 - mae: 0.0350 - mse: 0.0349\n",
            "Epoch 95/100\n",
            "81/81 [==============================] - 0s 2ms/step - loss: 0.0348 - mae: 0.0365 - mse: 0.0348\n",
            "Epoch 96/100\n",
            "81/81 [==============================] - 0s 2ms/step - loss: 0.0350 - mae: 0.0335 - mse: 0.0350\n",
            "Epoch 97/100\n",
            "81/81 [==============================] - 0s 3ms/step - loss: 0.0349 - mae: 0.0354 - mse: 0.0349\n",
            "Epoch 98/100\n",
            "81/81 [==============================] - 0s 2ms/step - loss: 0.0348 - mae: 0.0339 - mse: 0.0348\n",
            "Epoch 99/100\n",
            "81/81 [==============================] - 0s 2ms/step - loss: 0.0349 - mae: 0.0344 - mse: 0.0349\n",
            "Epoch 100/100\n",
            "81/81 [==============================] - 0s 2ms/step - loss: 0.0349 - mae: 0.0325 - mse: 0.0349\n"
          ]
        },
        {
          "output_type": "execute_result",
          "data": {
            "text/plain": [
              "<keras.callbacks.History at 0x7f0b8a09c810>"
            ]
          },
          "metadata": {},
          "execution_count": 49
        }
      ],
      "source": [
        "model.compile(optimizer=tf.keras.optimizers.Adagrad(learning_rate=0.01),loss=tf.keras.losses.MeanSquaredError(), metrics=[\"mae\", \"mse\"])\n",
        "model.fit([train.user_id, train.mountain_id], train.rating, epochs=100)"
      ]
    },
    {
      "cell_type": "code",
      "execution_count": 51,
      "metadata": {
        "id": "wseomTzYPmX_",
        "colab": {
          "base_uri": "https://localhost:8080/",
          "height": 265
        },
        "outputId": "f56a227f-6454-4614-f342-0473eca90aba"
      },
      "outputs": [
        {
          "output_type": "display_data",
          "data": {
            "text/plain": [
              "<Figure size 432x288 with 1 Axes>"
            ],
            "image/png": "[encoded data removed]"
          },
          "metadata": {
            "needs_background": "light"
          }
        }
      ],
      "source": [
        "# Plot the loss\n",
        "loss = history.history['loss']\n",
        "epochs = range(len(loss))\n",
        "plt.plot(epochs, loss, 'b', label='Training Loss')\n",
        "plt.show()"
      ]
    },
    {
      "cell_type": "code",
      "execution_count": 50,
      "metadata": {
        "colab": {
          "base_uri": "https://localhost:8080/"
        },
        "id": "N5DjgZvh94uv",
        "outputId": "c28c4b13-81c2-48b6-ca0c-635533aeb0ef"
      },
      "outputs": [
        {
          "output_type": "stream",
          "name": "stdout",
          "text": [
            "21/21 [==============================] - 0s 1ms/step - loss: 3.1074 - mae: 1.4686 - mse: 3.1074\n"
          ]
        },
        {
          "output_type": "execute_result",
          "data": {
            "text/plain": [
              "{'loss': 3.1074090003967285,\n",
              " 'mae': 1.468593955039978,\n",
              " 'mse': 3.1074090003967285}"
            ]
          },
          "metadata": {},
          "execution_count": 50
        }
      ],
      "source": [
        "#Evaluate\n",
        "model.evaluate([val.user_id, val.mountain_id], val.rating, return_dict=True)"
      ]
    },
    {
      "cell_type": "code",
      "execution_count": 57,
      "metadata": {
        "colab": {
          "base_uri": "https://localhost:8080/"
        },
        "id": "vF3nbqUeP7vv",
        "outputId": "1e843956-25b5-4e19-e920-cae3f8c640b9"
      },
      "outputs": [
        {
          "output_type": "stream",
          "name": "stdout",
          "text": [
            "Ratings:\n",
            "9: [[5.0178885]]\n",
            "116: [[4.011862]]\n",
            "219: [[3.8132002]]\n",
            "187: [[3.714163]]\n",
            "66: [[3.6332664]]\n",
            "86: [[3.5711565]]\n",
            "35: [[3.5607522]]\n",
            "214: [[3.4580865]]\n",
            "197: [[3.4170687]]\n",
            "139: [[3.3958297]]\n"
          ]
        }
      ],
      "source": [
        "#Test \n",
        "test_ratings = {}\n",
        "test_mountain_ids = np.array(list(set(df.mountain_id)))\n",
        "for mountain_id in test_mountain_ids:\n",
        "  test_ratings[mountain_id] = model({\n",
        "      \"user_id\": np.array([5]),\n",
        "      \"mountain_id\": np.array([mountain_id])\n",
        "  })\n",
        "\n",
        "print(\"Ratings:\")\n",
        "for title, score in sorted(test_ratings.items(), key=lambda x: x[1], reverse=True)[:10]:\n",
        "  print(f\"{title}: {score}\")"
      ]
    },
    {
      "cell_type": "markdown",
      "metadata": {
        "id": "KwzQRBC5_XpN"
      },
      "source": [
        "## **Saved and Convert Model**"
      ]
    },
    {
      "cell_type": "code",
      "execution_count": 58,
      "metadata": {
        "id": "WPUCCfPI_h9i"
      },
      "outputs": [],
      "source": [
        "# Save the entire model to a HDF5 file.\n",
        "# The '.h5' extension indicates that the model should be saved to HDF5.\n",
        "model.save('recommendation_rankingbased.h5')"
      ]
    },
    {
      "cell_type": "code",
      "execution_count": 59,
      "metadata": {
        "id": "ZGl-hA3T_qmS",
        "colab": {
          "base_uri": "https://localhost:8080/"
        },
        "outputId": "69e5c17e-5d17-4173-f95b-b2b5ff1884f4"
      },
      "outputs": [
        {
          "output_type": "stream",
          "name": "stdout",
          "text": [
            "Model: \"model\"\n",
            "__________________________________________________________________________________________________\n",
            " Layer (type)                   Output Shape         Param #     Connected to                     \n",
            "==================================================================================================\n",
            " user_id (InputLayer)           [(None, 1)]          0           []                               \n",
            "                                                                                                  \n",
            " mountain_id (InputLayer)       [(None, 1)]          0           []                               \n",
            "                                                                                                  \n",
            " embedding (Embedding)          (None, 1, 32)        16032       ['user_id[0][0]']                \n",
            "                                                                                                  \n",
            " embedding_1 (Embedding)        (None, 1, 32)        7456        ['mountain_id[0][0]']            \n",
            "                                                                                                  \n",
            " dot_product (Dot)              (None, 1, 1)         0           ['embedding[0][0]',              \n",
            "                                                                  'embedding_1[0][0]']            \n",
            "                                                                                                  \n",
            " flatten (Flatten)              (None, 1)            0           ['dot_product[0][0]']            \n",
            "                                                                                                  \n",
            " dense (Dense)                  (None, 256)          512         ['flatten[0][0]']                \n",
            "                                                                                                  \n",
            " dense_1 (Dense)                (None, 64)           16448       ['dense[0][0]']                  \n",
            "                                                                                                  \n",
            " dense_2 (Dense)                (None, 1)            65          ['dense_1[0][0]']                \n",
            "                                                                                                  \n",
            "==================================================================================================\n",
            "Total params: 40,513\n",
            "Trainable params: 40,513\n",
            "Non-trainable params: 0\n",
            "__________________________________________________________________________________________________\n",
            "21/21 [==============================] - 0s 2ms/step - loss: 3.1074 - mae: 1.4686 - mse: 3.1074\n"
          ]
        },
        {
          "output_type": "execute_result",
          "data": {
            "text/plain": [
              "{'loss': 3.1074090003967285,\n",
              " 'mae': 1.468593955039978,\n",
              " 'mse': 3.1074090003967285}"
            ]
          },
          "metadata": {},
          "execution_count": 59
        }
      ],
      "source": [
        "# Recreate the exact same model, including its weights and the optimizer\n",
        "new_model = tf.keras.models.load_model('recommendation_rankingbased.h5')\n",
        "\n",
        "# Show the model architecture\n",
        "new_model.summary()\n",
        "\n",
        "new_model.evaluate([val.user_id, val.mountain_id], val.rating, return_dict=True)"
      ]
    }
  ],
  "metadata": {
    "colab": {
      "collapsed_sections": [],
      "name": "recommendation system (ranking-based).ipynb",
      "provenance": []
    },
    "kernelspec": {
      "display_name": "Python 3",
      "name": "python3"
    },
    "language_info": {
      "name": "python"
    }
  },
  "nbformat": 4,
  "nbformat_minor": 0
}