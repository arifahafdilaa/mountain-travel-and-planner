{
  "cells": [
    {
      "cell_type": "markdown",
      "metadata": {
        "id": "xtD2I1gdzWzw"
      },
      "source": [
        "# **Recommendation System (based on Ranking)**"
      ]
    },
    {
      "cell_type": "code",
      "execution_count": 3,
      "metadata": {
        "colab": {
          "base_uri": "https://localhost:8080/"
        },
        "id": "xGLmedF8NfLc",
        "outputId": "c444a66b-aae7-4e41-d6c9-1a14128d4a96"
      },
      "outputs": [
        {
          "output_type": "stream",
          "name": "stdout",
          "text": [
            "Mounted at /content/drive\n"
          ]
        }
      ],
      "source": [
        "# Load the Drive helper and mount\n",
        "from google.colab import drive\n",
        "drive.mount('/content/drive')"
      ]
    },
    {
      "cell_type": "markdown",
      "metadata": {
        "id": "ikCLaYJWw5ib"
      },
      "source": [
        "### **Import**"
      ]
    },
    {
      "cell_type": "markdown",
      "metadata": {
        "id": "JoZCZlAHz0RS"
      },
      "source": [
        "Import modules and library needed"
      ]
    },
    {
      "cell_type": "code",
      "execution_count": 1,
      "metadata": {
        "id": "YGmYPv1KQ8_V"
      },
      "outputs": [],
      "source": [
        "import pandas as pd\n",
        "import numpy as np\n",
        "\n",
        "import tensorflow as tf\n",
        "\n",
        "import matplotlib.pyplot as plt\n",
        "from typing import Dict, Text"
      ]
    },
    {
      "cell_type": "markdown",
      "metadata": {
        "id": "Y3zHicOTz-ak"
      },
      "source": [
        "### **Prepare Dataset**"
      ]
    },
    {
      "cell_type": "code",
      "execution_count": 4,
      "metadata": {
        "colab": {
          "base_uri": "https://localhost:8080/",
          "height": 206
        },
        "id": "5WqownPPPIYe",
        "outputId": "07f88a38-be78-48f6-9aaf-5820a562c56d"
      },
      "outputs": [
        {
          "output_type": "execute_result",
          "data": {
            "text/plain": [
              "   user_id  mountain_id  rating\n",
              "0        1          126       3\n",
              "1        1          127       3\n",
              "2        1          171       4\n",
              "3        9          156       1\n",
              "4        9          207       5"
            ],
            "text/html": [
              "\n",
              "  <div id=\"df-e31d18ae-9edc-4cca-b1d4-e8972b344a38\">\n",
              "    <div class=\"colab-df-container\">\n",
              "      <div>\n",
              "<style scoped>\n",
              "    .dataframe tbody tr th:only-of-type {\n",
              "        vertical-align: middle;\n",
              "    }\n",
              "\n",
              "    .dataframe tbody tr th {\n",
              "        vertical-align: top;\n",
              "    }\n",
              "\n",
              "    .dataframe thead th {\n",
              "        text-align: right;\n",
              "    }\n",
              "</style>\n",
              "<table border=\"1\" class=\"dataframe\">\n",
              "  <thead>\n",
              "    <tr style=\"text-align: right;\">\n",
              "      <th></th>\n",
              "      <th>user_id</th>\n",
              "      <th>mountain_id</th>\n",
              "      <th>rating</th>\n",
              "    </tr>\n",
              "  </thead>\n",
              "  <tbody>\n",
              "    <tr>\n",
              "      <th>0</th>\n",
              "      <td>1</td>\n",
              "      <td>126</td>\n",
              "      <td>3</td>\n",
              "    </tr>\n",
              "    <tr>\n",
              "      <th>1</th>\n",
              "      <td>1</td>\n",
              "      <td>127</td>\n",
              "      <td>3</td>\n",
              "    </tr>\n",
              "    <tr>\n",
              "      <th>2</th>\n",
              "      <td>1</td>\n",
              "      <td>171</td>\n",
              "      <td>4</td>\n",
              "    </tr>\n",
              "    <tr>\n",
              "      <th>3</th>\n",
              "      <td>9</td>\n",
              "      <td>156</td>\n",
              "      <td>1</td>\n",
              "    </tr>\n",
              "    <tr>\n",
              "      <th>4</th>\n",
              "      <td>9</td>\n",
              "      <td>207</td>\n",
              "      <td>5</td>\n",
              "    </tr>\n",
              "  </tbody>\n",
              "</table>\n",
              "</div>\n",
              "      <button class=\"colab-df-convert\" onclick=\"convertToInteractive('df-e31d18ae-9edc-4cca-b1d4-e8972b344a38')\"\n",
              "              title=\"Convert this dataframe to an interactive table.\"\n",
              "              style=\"display:none;\">\n",
              "        \n",
              "  <svg xmlns=\"http://www.w3.org/2000/svg\" height=\"24px\"viewBox=\"0 0 24 24\"\n",
              "       width=\"24px\">\n",
              "    <path d=\"M0 0h24v24H0V0z\" fill=\"none\"/>\n",
              "    <path d=\"M18.56 5.44l.94 2.06.94-2.06 2.06-.94-2.06-.94-.94-2.06-.94 2.06-2.06.94zm-11 1L8.5 8.5l.94-2.06 2.06-.94-2.06-.94L8.5 2.5l-.94 2.06-2.06.94zm10 10l.94 2.06.94-2.06 2.06-.94-2.06-.94-.94-2.06-.94 2.06-2.06.94z\"/><path d=\"M17.41 7.96l-1.37-1.37c-.4-.4-.92-.59-1.43-.59-.52 0-1.04.2-1.43.59L10.3 9.45l-7.72 7.72c-.78.78-.78 2.05 0 2.83L4 21.41c.39.39.9.59 1.41.59.51 0 1.02-.2 1.41-.59l7.78-7.78 2.81-2.81c.8-.78.8-2.07 0-2.86zM5.41 20L4 18.59l7.72-7.72 1.47 1.35L5.41 20z\"/>\n",
              "  </svg>\n",
              "      </button>\n",
              "      \n",
              "  <style>\n",
              "    .colab-df-container {\n",
              "      display:flex;\n",
              "      flex-wrap:wrap;\n",
              "      gap: 12px;\n",
              "    }\n",
              "\n",
              "    .colab-df-convert {\n",
              "      background-color: #E8F0FE;\n",
              "      border: none;\n",
              "      border-radius: 50%;\n",
              "      cursor: pointer;\n",
              "      display: none;\n",
              "      fill: #1967D2;\n",
              "      height: 32px;\n",
              "      padding: 0 0 0 0;\n",
              "      width: 32px;\n",
              "    }\n",
              "\n",
              "    .colab-df-convert:hover {\n",
              "      background-color: #E2EBFA;\n",
              "      box-shadow: 0px 1px 2px rgba(60, 64, 67, 0.3), 0px 1px 3px 1px rgba(60, 64, 67, 0.15);\n",
              "      fill: #174EA6;\n",
              "    }\n",
              "\n",
              "    [theme=dark] .colab-df-convert {\n",
              "      background-color: #3B4455;\n",
              "      fill: #D2E3FC;\n",
              "    }\n",
              "\n",
              "    [theme=dark] .colab-df-convert:hover {\n",
              "      background-color: #434B5C;\n",
              "      box-shadow: 0px 1px 3px 1px rgba(0, 0, 0, 0.15);\n",
              "      filter: drop-shadow(0px 1px 2px rgba(0, 0, 0, 0.3));\n",
              "      fill: #FFFFFF;\n",
              "    }\n",
              "  </style>\n",
              "\n",
              "      <script>\n",
              "        const buttonEl =\n",
              "          document.querySelector('#df-e31d18ae-9edc-4cca-b1d4-e8972b344a38 button.colab-df-convert');\n",
              "        buttonEl.style.display =\n",
              "          google.colab.kernel.accessAllowed ? 'block' : 'none';\n",
              "\n",
              "        async function convertToInteractive(key) {\n",
              "          const element = document.querySelector('#df-e31d18ae-9edc-4cca-b1d4-e8972b344a38');\n",
              "          const dataTable =\n",
              "            await google.colab.kernel.invokeFunction('convertToInteractive',\n",
              "                                                     [key], {});\n",
              "          if (!dataTable) return;\n",
              "\n",
              "          const docLinkHtml = 'Like what you see? Visit the ' +\n",
              "            '<a target=\"_blank\" href=https://colab.research.google.com/notebooks/data_table.ipynb>data table notebook</a>'\n",
              "            + ' to learn more about interactive tables.';\n",
              "          element.innerHTML = '';\n",
              "          dataTable['output_type'] = 'display_data';\n",
              "          await google.colab.output.renderOutput(dataTable, element);\n",
              "          const docLink = document.createElement('div');\n",
              "          docLink.innerHTML = docLinkHtml;\n",
              "          element.appendChild(docLink);\n",
              "        }\n",
              "      </script>\n",
              "    </div>\n",
              "  </div>\n",
              "  "
            ]
          },
          "metadata": {},
          "execution_count": 4
        }
      ],
      "source": [
        "df = pd.read_csv(\"/content/drive/MyDrive/Capstone Project/Machine Learning/datasets/ratings.csv\")\n",
        "df.head()"
      ]
    },
    {
      "cell_type": "code",
      "execution_count": 5,
      "metadata": {
        "colab": {
          "base_uri": "https://localhost:8080/"
        },
        "id": "HIUT9HLMxTm5",
        "outputId": "a3971f46-1a98-4ead-c1c6-34d2dc807000"
      },
      "outputs": [
        {
          "output_type": "stream",
          "name": "stdout",
          "text": [
            "Length of dataset rating : 3232\n"
          ]
        }
      ],
      "source": [
        "print('Length of dataset rating :', len(df))"
      ]
    },
    {
      "cell_type": "code",
      "source": [
        "#Unique User IDs and Mountain IDs \n",
        "unique_user_ids = len(df.user_id.unique())\n",
        "unique_mountain_ids = len(df.mountain_id.unique())\n",
        "\n",
        "print(unique_mountain_ids, 'Mountain IDs')\n",
        "print(unique_user_ids, 'User IDs')"
      ],
      "metadata": {
        "colab": {
          "base_uri": "https://localhost:8080/"
        },
        "id": "eqoKdaJw1Ifq",
        "outputId": "79bc9cfa-6eb2-4389-d18d-3f985ce56155"
      },
      "execution_count": 7,
      "outputs": [
        {
          "output_type": "stream",
          "name": "stdout",
          "text": [
            "212 Mountain IDs\n",
            "500 User IDs\n"
          ]
        }
      ]
    },
    {
      "cell_type": "markdown",
      "source": [
        "## **Exploration**"
      ],
      "metadata": {
        "id": "Te7xSz9g1CZU"
      }
    },
    {
      "cell_type": "code",
      "source": [
        "#Popular Mountain\n",
        "df.groupby('mountain_id')['rating'].mean().sort_values(ascending=False)[:10]"
      ],
      "metadata": {
        "colab": {
          "base_uri": "https://localhost:8080/"
        },
        "id": "ZKll8ri20jKp",
        "outputId": "e0170f48-db60-4fce-fc1d-d3bc67b54207"
      },
      "execution_count": 8,
      "outputs": [
        {
          "output_type": "execute_result",
          "data": {
            "text/plain": [
              "mountain_id\n",
              "160    3.888889\n",
              "90     3.866667\n",
              "131    3.846154\n",
              "105    3.727273\n",
              "39     3.681818\n",
              "11     3.666667\n",
              "158    3.666667\n",
              "179    3.647059\n",
              "13     3.642857\n",
              "31     3.600000\n",
              "Name: rating, dtype: float64"
            ]
          },
          "metadata": {},
          "execution_count": 8
        }
      ]
    },
    {
      "cell_type": "code",
      "source": [
        "#How often user goes hiking\n",
        "df_freq = df.groupby('user_id').count().groupby('rating').count()\n",
        "df_freq.columns = ['count']\n",
        "df_freq.index.names = ['Hiking Frequency']\n",
        "print(df_freq)"
      ],
      "metadata": {
        "id": "KQjl-Ztj1xWe",
        "colab": {
          "base_uri": "https://localhost:8080/"
        },
        "outputId": "c1058493-deda-4666-93eb-bbfb49537a6e"
      },
      "execution_count": 10,
      "outputs": [
        {
          "output_type": "stream",
          "name": "stdout",
          "text": [
            "                  count\n",
            "Hiking Frequency       \n",
            "3                    60\n",
            "4                    60\n",
            "5                    66\n",
            "6                    69\n",
            "7                    63\n",
            "8                    68\n",
            "9                    57\n",
            "10                   57\n"
          ]
        }
      ]
    },
    {
      "cell_type": "code",
      "execution_count": 11,
      "metadata": {
        "id": "44uEoxNiyHti",
        "colab": {
          "base_uri": "https://localhost:8080/"
        },
        "outputId": "42eb262e-2268-4b58-bd0f-fde6f32f1cbf"
      },
      "outputs": [
        {
          "output_type": "stream",
          "name": "stdout",
          "text": [
            "There are : 2585 object on train examples\n",
            "There are : 647 object on val examples\n"
          ]
        }
      ],
      "source": [
        "from sklearn.model_selection import train_test_split\n",
        "\n",
        "train, val = train_test_split(df, test_size=0.2, shuffle=True, random_state=88)\n",
        "\n",
        "print('There are :', len(train), 'object on train examples')\n",
        "print('There are :', len(val), 'object on val examples')"
      ]
    },
    {
      "cell_type": "markdown",
      "metadata": {
        "id": "dhtl8kwz7VX_"
      },
      "source": [
        "## **Implementing Model**"
      ]
    },
    {
      "cell_type": "code",
      "source": [
        "embedding_dimension = 16\n",
        "\n",
        "user_id = tf.keras.layers.Input(shape=[1], name=\"user_id\")\n",
        "user_embedding = tf.keras.layers.Embedding(unique_user_ids + 1, embedding_dimension)(user_id)\n",
        "\n",
        "mountain_id = tf.keras.layers.Input(shape=[1], name=\"mountain_id\")\n",
        "mountain_embedding = tf.keras.layers.Embedding(unique_mountain_ids + 1, embedding_dimension)(mountain_id)\n",
        "\n",
        "x = tf.keras.layers.Dot(name = 'dot_product', normalize = True, axes = 2)([user_embedding, mountain_embedding])\n",
        "x = tf.keras.layers.Flatten()(x)\n",
        "\n",
        "x = tf.keras.layers.Dense(256, activation=\"relu\")(x)\n",
        "x = tf.keras.layers.Dense(64, activation=\"relu\")(x)\n",
        "x = tf.keras.layers.Dense(1, kernel_initializer='he_normal')(x)"
      ],
      "metadata": {
        "id": "C69YYJHQlNjY"
      },
      "execution_count": 66,
      "outputs": []
    },
    {
      "cell_type": "code",
      "source": [
        "# Create model and compile it\n",
        "model = tf.keras.Model([user_id, mountain_id], x)\n",
        "model.summary()"
      ],
      "metadata": {
        "colab": {
          "base_uri": "https://localhost:8080/"
        },
        "id": "JdTWy9-Mm3j-",
        "outputId": "93014a69-15d6-47f9-aca1-e5997d2586f9"
      },
      "execution_count": 67,
      "outputs": [
        {
          "output_type": "stream",
          "name": "stdout",
          "text": [
            "Model: \"model_5\"\n",
            "__________________________________________________________________________________________________\n",
            " Layer (type)                   Output Shape         Param #     Connected to                     \n",
            "==================================================================================================\n",
            " user_id (InputLayer)           [(None, 1)]          0           []                               \n",
            "                                                                                                  \n",
            " mountain_id (InputLayer)       [(None, 1)]          0           []                               \n",
            "                                                                                                  \n",
            " embedding_16 (Embedding)       (None, 1, 16)        8016        ['user_id[0][0]']                \n",
            "                                                                                                  \n",
            " embedding_17 (Embedding)       (None, 1, 16)        3408        ['mountain_id[0][0]']            \n",
            "                                                                                                  \n",
            " dot_product (Dot)              (None, 1, 1)         0           ['embedding_16[0][0]',           \n",
            "                                                                  'embedding_17[0][0]']           \n",
            "                                                                                                  \n",
            " flatten_8 (Flatten)            (None, 1)            0           ['dot_product[0][0]']            \n",
            "                                                                                                  \n",
            " dense_24 (Dense)               (None, 256)          512         ['flatten_8[0][0]']              \n",
            "                                                                                                  \n",
            " dense_25 (Dense)               (None, 64)           16448       ['dense_24[0][0]']               \n",
            "                                                                                                  \n",
            " dense_26 (Dense)               (None, 1)            65          ['dense_25[0][0]']               \n",
            "                                                                                                  \n",
            "==================================================================================================\n",
            "Total params: 28,449\n",
            "Trainable params: 28,449\n",
            "Non-trainable params: 0\n",
            "__________________________________________________________________________________________________\n"
          ]
        }
      ]
    },
    {
      "cell_type": "code",
      "execution_count": 68,
      "metadata": {
        "id": "_HWxbw7U2ySY"
      },
      "outputs": [],
      "source": [
        "#Compile\n",
        "model.compile(loss=tf.keras.losses.MeanSquaredError(), metrics=[\"mae\", \"mse\"], optimizer='Adagrad')"
      ]
    },
    {
      "cell_type": "code",
      "execution_count": null,
      "metadata": {
        "id": "O_vzy9HaMrTY"
      },
      "outputs": [],
      "source": [
        "# Set the learning rate scheduler\n",
        "lr_schedule = tf.keras.callbacks.LearningRateScheduler(\n",
        "    lambda epoch: 1e-8 * 10**(epoch / 20))\n",
        "# Train the model\n",
        "history = model.fit([train.user_id, train.mountain_id], train.rating, epochs=150, callbacks=[lr_schedule])"
      ]
    },
    {
      "cell_type": "code",
      "execution_count": 70,
      "metadata": {
        "colab": {
          "base_uri": "https://localhost:8080/",
          "height": 405
        },
        "id": "8rvPqTlZM3PA",
        "outputId": "538fbce5-6d10-43ae-c2d0-656c72f05cee"
      },
      "outputs": [
        {
          "output_type": "execute_result",
          "data": {
            "text/plain": [
              "(1e-08, 0.3, 0.0, 10.0)"
            ]
          },
          "metadata": {},
          "execution_count": 70
        },
        {
          "output_type": "display_data",
          "data": {
            "text/plain": [
              "<Figure size 720x432 with 1 Axes>"
            ],
            "image/png": "[encoded data removed]"
          },
          "metadata": {
            "needs_background": "light"
          }
        }
      ],
      "source": [
        "# Define the learning rate array\n",
        "lrs = 1e-8 * (10 ** (np.arange(150) / 20))\n",
        "\n",
        "# Plot\n",
        "plt.figure(figsize=(10, 6))\n",
        "plt.grid(True)\n",
        "plt.semilogx(lrs, history.history[\"loss\"])\n",
        "plt.tick_params('both', length=10, width=1, which='both')\n",
        "plt.axis([1e-8, 0.3, 0, 10])"
      ]
    },
    {
      "cell_type": "code",
      "execution_count": null,
      "metadata": {
        "id": "y1RHN6eM21oi"
      },
      "outputs": [],
      "source": [
        "model.compile(optimizer=tf.keras.optimizers.Adagrad(learning_rate=0.01),loss=tf.keras.losses.MeanSquaredError(), metrics=[\"mae\", \"mse\"])\n",
        "model.fit([train.user_id, train.mountain_id], train.rating, epochs=100)"
      ]
    },
    {
      "cell_type": "code",
      "execution_count": 72,
      "metadata": {
        "id": "wseomTzYPmX_",
        "colab": {
          "base_uri": "https://localhost:8080/",
          "height": 265
        },
        "outputId": "b85bec4a-9f35-44b9-83de-118bdec99fd4"
      },
      "outputs": [
        {
          "output_type": "display_data",
          "data": {
            "text/plain": [
              "<Figure size 432x288 with 1 Axes>"
            ],
            "image/png": "[encoded data removed]"
          },
          "metadata": {
            "needs_background": "light"
          }
        }
      ],
      "source": [
        "# Plot the loss\n",
        "loss = history.history['loss']\n",
        "epochs = range(len(loss))\n",
        "plt.plot(epochs, loss, 'b', label='Training Loss')\n",
        "plt.show()"
      ]
    },
    {
      "cell_type": "code",
      "execution_count": 76,
      "metadata": {
        "colab": {
          "base_uri": "https://localhost:8080/"
        },
        "id": "N5DjgZvh94uv",
        "outputId": "08345b6c-a874-446f-9dfd-a0ebd6b254e0"
      },
      "outputs": [
        {
          "output_type": "stream",
          "name": "stdout",
          "text": [
            "21/21 [==============================] - 0s 2ms/step - loss: 3.5834 - mae: 1.5365 - mse: 3.5834\n"
          ]
        },
        {
          "output_type": "execute_result",
          "data": {
            "text/plain": [
              "{'loss': 3.5834338665008545,\n",
              " 'mae': 1.536512017250061,\n",
              " 'mse': 3.5834338665008545}"
            ]
          },
          "metadata": {},
          "execution_count": 76
        }
      ],
      "source": [
        "#Evaluate\n",
        "model.evaluate([val.user_id, val.mountain_id], val.rating, return_dict=True)"
      ]
    },
    {
      "cell_type": "code",
      "execution_count": 74,
      "metadata": {
        "colab": {
          "base_uri": "https://localhost:8080/"
        },
        "id": "vF3nbqUeP7vv",
        "outputId": "195b0a42-c972-4172-ac97-1f47bcde7f0c"
      },
      "outputs": [
        {
          "output_type": "stream",
          "name": "stdout",
          "text": [
            "Ratings:\n",
            "92: [[4.9998536]]\n",
            "69: [[4.99604]]\n",
            "7: [[4.6039243]]\n",
            "153: [[4.214825]]\n",
            "48: [[4.12534]]\n",
            "152: [[4.1161265]]\n",
            "185: [[3.834145]]\n",
            "212: [[3.8170996]]\n",
            "13: [[3.7286391]]\n",
            "165: [[3.7188036]]\n"
          ]
        }
      ],
      "source": [
        "#Test \n",
        "test_ratings = {}\n",
        "test_mountain_ids = np.array(list(set(df.mountain_id)))\n",
        "for mountain_id in test_mountain_ids:\n",
        "  test_ratings[mountain_id] = model({\n",
        "      \"user_id\": np.array([5]),\n",
        "      \"mountain_id\": np.array([mountain_id])\n",
        "  })\n",
        "\n",
        "print(\"Ratings:\")\n",
        "for title, score in sorted(test_ratings.items(), key=lambda x: x[1], reverse=True)[:10]:\n",
        "  print(f\"{title}: {score}\")"
      ]
    },
    {
      "cell_type": "markdown",
      "metadata": {
        "id": "KwzQRBC5_XpN"
      },
      "source": [
        "## **Saved and Convert Model**"
      ]
    },
    {
      "cell_type": "code",
      "execution_count": 77,
      "metadata": {
        "id": "WPUCCfPI_h9i"
      },
      "outputs": [],
      "source": [
        "# Save the entire model to a HDF5 file.\n",
        "# The '.h5' extension indicates that the model should be saved to HDF5.\n",
        "model.save('recommendation_rankingbased(dim16).h5')"
      ]
    },
    {
      "cell_type": "code",
      "execution_count": 78,
      "metadata": {
        "id": "ZGl-hA3T_qmS",
        "colab": {
          "base_uri": "https://localhost:8080/"
        },
        "outputId": "8f4e17f1-b8d0-4643-a66f-ad1782f12026"
      },
      "outputs": [
        {
          "output_type": "stream",
          "name": "stdout",
          "text": [
            "Model: \"model_5\"\n",
            "__________________________________________________________________________________________________\n",
            " Layer (type)                   Output Shape         Param #     Connected to                     \n",
            "==================================================================================================\n",
            " user_id (InputLayer)           [(None, 1)]          0           []                               \n",
            "                                                                                                  \n",
            " mountain_id (InputLayer)       [(None, 1)]          0           []                               \n",
            "                                                                                                  \n",
            " embedding_16 (Embedding)       (None, 1, 16)        8016        ['user_id[0][0]']                \n",
            "                                                                                                  \n",
            " embedding_17 (Embedding)       (None, 1, 16)        3408        ['mountain_id[0][0]']            \n",
            "                                                                                                  \n",
            " dot_product (Dot)              (None, 1, 1)         0           ['embedding_16[0][0]',           \n",
            "                                                                  'embedding_17[0][0]']           \n",
            "                                                                                                  \n",
            " flatten_8 (Flatten)            (None, 1)            0           ['dot_product[0][0]']            \n",
            "                                                                                                  \n",
            " dense_24 (Dense)               (None, 256)          512         ['flatten_8[0][0]']              \n",
            "                                                                                                  \n",
            " dense_25 (Dense)               (None, 64)           16448       ['dense_24[0][0]']               \n",
            "                                                                                                  \n",
            " dense_26 (Dense)               (None, 1)            65          ['dense_25[0][0]']               \n",
            "                                                                                                  \n",
            "==================================================================================================\n",
            "Total params: 28,449\n",
            "Trainable params: 28,449\n",
            "Non-trainable params: 0\n",
            "__________________________________________________________________________________________________\n",
            "21/21 [==============================] - 0s 2ms/step - loss: 3.5834 - mae: 1.5365 - mse: 3.5834\n"
          ]
        },
        {
          "output_type": "execute_result",
          "data": {
            "text/plain": [
              "{'loss': 3.5834338665008545,\n",
              " 'mae': 1.536512017250061,\n",
              " 'mse': 3.5834338665008545}"
            ]
          },
          "metadata": {},
          "execution_count": 78
        }
      ],
      "source": [
        "# Recreate the exact same model, including its weights and the optimizer\n",
        "new_model = tf.keras.models.load_model('recommendation_rankingbased(dim16).h5')\n",
        "\n",
        "# Show the model architecture\n",
        "new_model.summary()\n",
        "\n",
        "new_model.evaluate([val.user_id, val.mountain_id], val.rating, return_dict=True)"
      ]
    }
  ],
  "metadata": {
    "colab": {
      "collapsed_sections": [],
      "name": "recommendation system (ranking-based)(dim 16).ipynb",
      "provenance": []
    },
    "kernelspec": {
      "display_name": "Python 3",
      "name": "python3"
    },
    "language_info": {
      "name": "python"
    }
  },
  "nbformat": 4,
  "nbformat_minor": 0
}