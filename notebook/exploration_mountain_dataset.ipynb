{
  "cells": [
    {
      "cell_type": "markdown",
      "metadata": {
        "id": "xtD2I1gdzWzw"
      },
      "source": [
        "# **Exploration Mountain Dataset**"
      ]
    },
    {
      "cell_type": "code",
      "execution_count": 1,
      "metadata": {
        "id": "xGLmedF8NfLc",
        "colab": {
          "base_uri": "https://localhost:8080/"
        },
        "outputId": "b0545149-1fc8-463e-819a-59822b100640"
      },
      "outputs": [
        {
          "output_type": "stream",
          "name": "stdout",
          "text": [
            "Mounted at /content/drive\n"
          ]
        }
      ],
      "source": [
        "# Load the Drive helper and mount\n",
        "from google.colab import drive\n",
        "drive.mount('/content/drive')"
      ]
    },
    {
      "cell_type": "markdown",
      "metadata": {
        "id": "ikCLaYJWw5ib"
      },
      "source": [
        "### **Import**"
      ]
    },
    {
      "cell_type": "markdown",
      "metadata": {
        "id": "JoZCZlAHz0RS"
      },
      "source": [
        "Import modules and library needed"
      ]
    },
    {
      "cell_type": "code",
      "source": [
        "import chardet\n",
        "import pandas as pd\n",
        "import seaborn as sns\n",
        "import matplotlib.pyplot as plt\n",
        "import numpy as np"
      ],
      "metadata": {
        "id": "E7loeAB9wz3S"
      },
      "execution_count": 2,
      "outputs": []
    },
    {
      "cell_type": "markdown",
      "metadata": {
        "id": "Y3zHicOTz-ak"
      },
      "source": [
        "### **Prepare Dataset**"
      ]
    },
    {
      "cell_type": "code",
      "source": [
        "with open(\"/content/drive/MyDrive/Capstone Project/Machine Learning/datasets/mountain.csv\", 'rb') as f:\n",
        "    result = chardet.detect(f.read())  # or readline if the file is large\n",
        "\n",
        "\n",
        "df = pd.read_csv(\"/content/drive/MyDrive/Capstone Project/Machine Learning/datasets/mountain.csv\", encoding=result['encoding'])\n",
        "df = df.iloc[0:212, 0:9]  \n",
        "df.head()"
      ],
      "metadata": {
        "colab": {
          "base_uri": "https://localhost:8080/",
          "height": 354
        },
        "id": "WncYXOzx0wIs",
        "outputId": "4e705d58-79b6-4425-f6fe-fc7a9a13d5a1"
      },
      "execution_count": 19,
      "outputs": [
        {
          "output_type": "execute_result",
          "data": {
            "text/plain": [
              "   ID             Nama  Ketinggian Provinsi                  Wilayah  \\\n",
              "0   1     Gunung Patas        1414     Bali  Bali dan  Nusa Tenggara   \n",
              "1   2     Gunung Abang        2151     Bali  Bali dan  Nusa Tenggara   \n",
              "2   3     Gunung Agung        3142     Bali  Bali dan  Nusa Tenggara   \n",
              "3   4     Gunung Batur        1717     Bali  Bali dan  Nusa Tenggara   \n",
              "4   5  Gunung Batukaru        2276     Bali  Bali dan  Nusa Tenggara   \n",
              "\n",
              "                                           Deskripsi  \\\n",
              "0  Gunung Patas memiliki ketinggian 1.414 meter d...   \n",
              "1  Menurut beberapa sumber mengatakan bahwa gunun...   \n",
              "2  Gunung Agung adalah gunung tertinggi di pulau ...   \n",
              "3  Gunung Batur merupakan sebuah gunung berapi ak...   \n",
              "4  Gunung Batukaru adalah gunung tertinggi kedua ...   \n",
              "\n",
              "  Aktif (Aktif/Tidak Aktif) Level (Pemula/Mahir)    Kota/Kab  \n",
              "0               Tidak Aktif               Pemula    Buleleng  \n",
              "1                     Aktif               Pemula      Bangli  \n",
              "2                     Aktif                Mahir  Karangasem  \n",
              "3                     Aktif               Pemula      Bangli  \n",
              "4               Tidak Aktif               Pemula     Tabanan  "
            ],
            "text/html": [
              "\n",
              "  <div id=\"df-501bed7a-1102-4aa6-8894-af5a6cf9cd04\">\n",
              "    <div class=\"colab-df-container\">\n",
              "      <div>\n",
              "<style scoped>\n",
              "    .dataframe tbody tr th:only-of-type {\n",
              "        vertical-align: middle;\n",
              "    }\n",
              "\n",
              "    .dataframe tbody tr th {\n",
              "        vertical-align: top;\n",
              "    }\n",
              "\n",
              "    .dataframe thead th {\n",
              "        text-align: right;\n",
              "    }\n",
              "</style>\n",
              "<table border=\"1\" class=\"dataframe\">\n",
              "  <thead>\n",
              "    <tr style=\"text-align: right;\">\n",
              "      <th></th>\n",
              "      <th>ID</th>\n",
              "      <th>Nama</th>\n",
              "      <th>Ketinggian</th>\n",
              "      <th>Provinsi</th>\n",
              "      <th>Wilayah</th>\n",
              "      <th>Deskripsi</th>\n",
              "      <th>Aktif (Aktif/Tidak Aktif)</th>\n",
              "      <th>Level (Pemula/Mahir)</th>\n",
              "      <th>Kota/Kab</th>\n",
              "    </tr>\n",
              "  </thead>\n",
              "  <tbody>\n",
              "    <tr>\n",
              "      <th>0</th>\n",
              "      <td>1</td>\n",
              "      <td>Gunung Patas</td>\n",
              "      <td>1414</td>\n",
              "      <td>Bali</td>\n",
              "      <td>Bali dan  Nusa Tenggara</td>\n",
              "      <td>Gunung Patas memiliki ketinggian 1.414 meter d...</td>\n",
              "      <td>Tidak Aktif</td>\n",
              "      <td>Pemula</td>\n",
              "      <td>Buleleng</td>\n",
              "    </tr>\n",
              "    <tr>\n",
              "      <th>1</th>\n",
              "      <td>2</td>\n",
              "      <td>Gunung Abang</td>\n",
              "      <td>2151</td>\n",
              "      <td>Bali</td>\n",
              "      <td>Bali dan  Nusa Tenggara</td>\n",
              "      <td>Menurut beberapa sumber mengatakan bahwa gunun...</td>\n",
              "      <td>Aktif</td>\n",
              "      <td>Pemula</td>\n",
              "      <td>Bangli</td>\n",
              "    </tr>\n",
              "    <tr>\n",
              "      <th>2</th>\n",
              "      <td>3</td>\n",
              "      <td>Gunung Agung</td>\n",
              "      <td>3142</td>\n",
              "      <td>Bali</td>\n",
              "      <td>Bali dan  Nusa Tenggara</td>\n",
              "      <td>Gunung Agung adalah gunung tertinggi di pulau ...</td>\n",
              "      <td>Aktif</td>\n",
              "      <td>Mahir</td>\n",
              "      <td>Karangasem</td>\n",
              "    </tr>\n",
              "    <tr>\n",
              "      <th>3</th>\n",
              "      <td>4</td>\n",
              "      <td>Gunung Batur</td>\n",
              "      <td>1717</td>\n",
              "      <td>Bali</td>\n",
              "      <td>Bali dan  Nusa Tenggara</td>\n",
              "      <td>Gunung Batur merupakan sebuah gunung berapi ak...</td>\n",
              "      <td>Aktif</td>\n",
              "      <td>Pemula</td>\n",
              "      <td>Bangli</td>\n",
              "    </tr>\n",
              "    <tr>\n",
              "      <th>4</th>\n",
              "      <td>5</td>\n",
              "      <td>Gunung Batukaru</td>\n",
              "      <td>2276</td>\n",
              "      <td>Bali</td>\n",
              "      <td>Bali dan  Nusa Tenggara</td>\n",
              "      <td>Gunung Batukaru adalah gunung tertinggi kedua ...</td>\n",
              "      <td>Tidak Aktif</td>\n",
              "      <td>Pemula</td>\n",
              "      <td>Tabanan</td>\n",
              "    </tr>\n",
              "  </tbody>\n",
              "</table>\n",
              "</div>\n",
              "      <button class=\"colab-df-convert\" onclick=\"convertToInteractive('df-501bed7a-1102-4aa6-8894-af5a6cf9cd04')\"\n",
              "              title=\"Convert this dataframe to an interactive table.\"\n",
              "              style=\"display:none;\">\n",
              "        \n",
              "  <svg xmlns=\"http://www.w3.org/2000/svg\" height=\"24px\"viewBox=\"0 0 24 24\"\n",
              "       width=\"24px\">\n",
              "    <path d=\"M0 0h24v24H0V0z\" fill=\"none\"/>\n",
              "    <path d=\"M18.56 5.44l.94 2.06.94-2.06 2.06-.94-2.06-.94-.94-2.06-.94 2.06-2.06.94zm-11 1L8.5 8.5l.94-2.06 2.06-.94-2.06-.94L8.5 2.5l-.94 2.06-2.06.94zm10 10l.94 2.06.94-2.06 2.06-.94-2.06-.94-.94-2.06-.94 2.06-2.06.94z\"/><path d=\"M17.41 7.96l-1.37-1.37c-.4-.4-.92-.59-1.43-.59-.52 0-1.04.2-1.43.59L10.3 9.45l-7.72 7.72c-.78.78-.78 2.05 0 2.83L4 21.41c.39.39.9.59 1.41.59.51 0 1.02-.2 1.41-.59l7.78-7.78 2.81-2.81c.8-.78.8-2.07 0-2.86zM5.41 20L4 18.59l7.72-7.72 1.47 1.35L5.41 20z\"/>\n",
              "  </svg>\n",
              "      </button>\n",
              "      \n",
              "  <style>\n",
              "    .colab-df-container {\n",
              "      display:flex;\n",
              "      flex-wrap:wrap;\n",
              "      gap: 12px;\n",
              "    }\n",
              "\n",
              "    .colab-df-convert {\n",
              "      background-color: #E8F0FE;\n",
              "      border: none;\n",
              "      border-radius: 50%;\n",
              "      cursor: pointer;\n",
              "      display: none;\n",
              "      fill: #1967D2;\n",
              "      height: 32px;\n",
              "      padding: 0 0 0 0;\n",
              "      width: 32px;\n",
              "    }\n",
              "\n",
              "    .colab-df-convert:hover {\n",
              "      background-color: #E2EBFA;\n",
              "      box-shadow: 0px 1px 2px rgba(60, 64, 67, 0.3), 0px 1px 3px 1px rgba(60, 64, 67, 0.15);\n",
              "      fill: #174EA6;\n",
              "    }\n",
              "\n",
              "    [theme=dark] .colab-df-convert {\n",
              "      background-color: #3B4455;\n",
              "      fill: #D2E3FC;\n",
              "    }\n",
              "\n",
              "    [theme=dark] .colab-df-convert:hover {\n",
              "      background-color: #434B5C;\n",
              "      box-shadow: 0px 1px 3px 1px rgba(0, 0, 0, 0.15);\n",
              "      filter: drop-shadow(0px 1px 2px rgba(0, 0, 0, 0.3));\n",
              "      fill: #FFFFFF;\n",
              "    }\n",
              "  </style>\n",
              "\n",
              "      <script>\n",
              "        const buttonEl =\n",
              "          document.querySelector('#df-501bed7a-1102-4aa6-8894-af5a6cf9cd04 button.colab-df-convert');\n",
              "        buttonEl.style.display =\n",
              "          google.colab.kernel.accessAllowed ? 'block' : 'none';\n",
              "\n",
              "        async function convertToInteractive(key) {\n",
              "          const element = document.querySelector('#df-501bed7a-1102-4aa6-8894-af5a6cf9cd04');\n",
              "          const dataTable =\n",
              "            await google.colab.kernel.invokeFunction('convertToInteractive',\n",
              "                                                     [key], {});\n",
              "          if (!dataTable) return;\n",
              "\n",
              "          const docLinkHtml = 'Like what you see? Visit the ' +\n",
              "            '<a target=\"_blank\" href=https://colab.research.google.com/notebooks/data_table.ipynb>data table notebook</a>'\n",
              "            + ' to learn more about interactive tables.';\n",
              "          element.innerHTML = '';\n",
              "          dataTable['output_type'] = 'display_data';\n",
              "          await google.colab.output.renderOutput(dataTable, element);\n",
              "          const docLink = document.createElement('div');\n",
              "          docLink.innerHTML = docLinkHtml;\n",
              "          element.appendChild(docLink);\n",
              "        }\n",
              "      </script>\n",
              "    </div>\n",
              "  </div>\n",
              "  "
            ]
          },
          "metadata": {},
          "execution_count": 19
        }
      ]
    },
    {
      "cell_type": "code",
      "execution_count": 20,
      "metadata": {
        "colab": {
          "base_uri": "https://localhost:8080/"
        },
        "id": "HIUT9HLMxTm5",
        "outputId": "8c3c7f49-575f-4289-b711-61b3f544f991"
      },
      "outputs": [
        {
          "output_type": "stream",
          "name": "stdout",
          "text": [
            "Length of dataset mountain : 212\n"
          ]
        }
      ],
      "source": [
        "print('Length of dataset mountain :', len(df))"
      ]
    },
    {
      "cell_type": "code",
      "source": [
        "# Check duplicate data\n",
        "print(\"Data duplicated: \", df.duplicated().sum())\n",
        "\n",
        "if df.duplicated().sum() > 0:\n",
        "  df_clean = df[~df.duplicated()]\n",
        "  print('Length of dataset rating after cleaning:', len(df_clean))\n",
        "else :\n",
        "  print('No cleaning needed')"
      ],
      "metadata": {
        "colab": {
          "base_uri": "https://localhost:8080/"
        },
        "id": "5rmO0-FByUow",
        "outputId": "77396f91-2f46-4263-b731-903a89e9d2be"
      },
      "execution_count": 21,
      "outputs": [
        {
          "output_type": "stream",
          "name": "stdout",
          "text": [
            "Data duplicated:  0\n",
            "No cleaning needed\n"
          ]
        }
      ]
    },
    {
      "cell_type": "markdown",
      "source": [
        "## **Exploration**"
      ],
      "metadata": {
        "id": "Te7xSz9g1CZU"
      }
    },
    {
      "cell_type": "markdown",
      "source": [
        "**Overview**"
      ],
      "metadata": {
        "id": "M4CgkZ2tBjyx"
      }
    },
    {
      "cell_type": "code",
      "source": [
        "#Mountain per Wilayah\n",
        "df_wilayah = df.groupby('Wilayah')['Wilayah'].count()\n",
        "df_wilayah"
      ],
      "metadata": {
        "colab": {
          "base_uri": "https://localhost:8080/"
        },
        "id": "s1j47EIq1bWE",
        "outputId": "ae9522d3-180c-4a70-b6db-45d87771d959"
      },
      "execution_count": 22,
      "outputs": [
        {
          "output_type": "execute_result",
          "data": {
            "text/plain": [
              "Wilayah\n",
              "Bali dan  Nusa Tenggara     39\n",
              "Jawa                       134\n",
              "Sumatra                     39\n",
              "Name: Wilayah, dtype: int64"
            ]
          },
          "metadata": {},
          "execution_count": 22
        }
      ]
    },
    {
      "cell_type": "code",
      "source": [
        "df_wilayah.plot(kind='pie', y='points', autopct='%1.0f%%',\n",
        "                                colors = ['khaki', 'mediumaquamarine','cadetblue'],\n",
        "                                title='Jumlah Gunung per Wilayah')"
      ],
      "metadata": {
        "colab": {
          "base_uri": "https://localhost:8080/",
          "height": 281
        },
        "id": "Jjgt-2lH-xSI",
        "outputId": "5add22d4-0629-4675-efc8-731ea56f70e1"
      },
      "execution_count": 23,
      "outputs": [
        {
          "output_type": "execute_result",
          "data": {
            "text/plain": [
              "<matplotlib.axes._subplots.AxesSubplot at 0x7ffb51c85ad0>"
            ]
          },
          "metadata": {},
          "execution_count": 23
        },
        {
          "output_type": "display_data",
          "data": {
            "text/plain": [
              "<Figure size 432x288 with 1 Axes>"
            ],
            "image/png": "[encoded data removed]"
          },
          "metadata": {}
        }
      ]
    },
    {
      "cell_type": "code",
      "source": [
        "#Mountain per Provinsi\n",
        "df_provinsi = df.groupby('Provinsi')['Provinsi'].count().sort_values(ascending=False)[:10]\n",
        "df_provinsi"
      ],
      "metadata": {
        "colab": {
          "base_uri": "https://localhost:8080/"
        },
        "id": "G-QnoBlz2F1M",
        "outputId": "dbea98da-4d92-428e-e56d-c19cf471f45f"
      },
      "execution_count": 24,
      "outputs": [
        {
          "output_type": "execute_result",
          "data": {
            "text/plain": [
              "Provinsi\n",
              "Jawa Timur             49\n",
              "Jawa Barat             44\n",
              "Jawa Tengah            29\n",
              "Nusa Tenggara Timur    21\n",
              "Sumatra Barat          12\n",
              "Bali                   12\n",
              "Aceh                    8\n",
              "Lampung                 7\n",
              "Nusa Tenggara Barat     6\n",
              "Banten                  5\n",
              "Name: Provinsi, dtype: int64"
            ]
          },
          "metadata": {},
          "execution_count": 24
        }
      ]
    },
    {
      "cell_type": "code",
      "source": [
        "df_provinsi.plot.barh(title='Jumlah Gunung per Provinsi (Top 10)',  color = \"darkolivegreen\")"
      ],
      "metadata": {
        "colab": {
          "base_uri": "https://localhost:8080/",
          "height": 298
        },
        "id": "K08n6DwT-OJx",
        "outputId": "182f33ec-fb29-4ffb-8103-650b68a17608"
      },
      "execution_count": 26,
      "outputs": [
        {
          "output_type": "execute_result",
          "data": {
            "text/plain": [
              "<matplotlib.axes._subplots.AxesSubplot at 0x7ffb51bf1210>"
            ]
          },
          "metadata": {},
          "execution_count": 26
        },
        {
          "output_type": "display_data",
          "data": {
            "text/plain": [
              "<Figure size 432x288 with 1 Axes>"
            ],
            "image/png": "[encoded data removed]"
          },
          "metadata": {
            "needs_background": "light"
          }
        }
      ]
    },
    {
      "cell_type": "markdown",
      "source": [
        "**Summary of Mountain Activity**"
      ],
      "metadata": {
        "id": "9yKMaE3ABXnn"
      }
    },
    {
      "cell_type": "code",
      "source": [
        "df_aktif = df.groupby('Aktif (Aktif/Tidak Aktif)')['Aktif (Aktif/Tidak Aktif)'].count().sort_values(ascending=False)\n",
        "df_aktif"
      ],
      "metadata": {
        "colab": {
          "base_uri": "https://localhost:8080/"
        },
        "id": "3PzqDAuw-i_Z",
        "outputId": "c39afccc-d686-4d4f-b10b-247ab2083086"
      },
      "execution_count": 27,
      "outputs": [
        {
          "output_type": "execute_result",
          "data": {
            "text/plain": [
              "Aktif (Aktif/Tidak Aktif)\n",
              "Tidak Aktif    138\n",
              "Aktif           74\n",
              "Name: Aktif (Aktif/Tidak Aktif), dtype: int64"
            ]
          },
          "metadata": {},
          "execution_count": 27
        }
      ]
    },
    {
      "cell_type": "code",
      "source": [
        "df_aktif.plot.barh(title='Jumlah Gunung berdasarkan Status',  color = \"darkseagreen\")"
      ],
      "metadata": {
        "colab": {
          "base_uri": "https://localhost:8080/",
          "height": 298
        },
        "id": "zlUlhgSt2RGh",
        "outputId": "264d348e-dc92-4d4e-a8ae-926d46b9049b"
      },
      "execution_count": 28,
      "outputs": [
        {
          "output_type": "execute_result",
          "data": {
            "text/plain": [
              "<matplotlib.axes._subplots.AxesSubplot at 0x7ffb519db890>"
            ]
          },
          "metadata": {},
          "execution_count": 28
        },
        {
          "output_type": "display_data",
          "data": {
            "text/plain": [
              "<Figure size 432x288 with 1 Axes>"
            ],
            "image/png": "[encoded data removed]"
          },
          "metadata": {
            "needs_background": "light"
          }
        }
      ]
    },
    {
      "cell_type": "markdown",
      "source": [
        "**Summary of Difficulty Level**"
      ],
      "metadata": {
        "id": "BtAl4dXTBOqg"
      }
    },
    {
      "cell_type": "code",
      "source": [
        "df_level = df.groupby('Level (Pemula/Mahir)')['Level (Pemula/Mahir)'].count().sort_values(ascending=False)\n",
        "df_level"
      ],
      "metadata": {
        "colab": {
          "base_uri": "https://localhost:8080/"
        },
        "id": "OgIo_LpI4uGB",
        "outputId": "c648098e-0fa8-4e94-f0f7-82f4bf6f6f47"
      },
      "execution_count": 29,
      "outputs": [
        {
          "output_type": "execute_result",
          "data": {
            "text/plain": [
              "Level (Pemula/Mahir)\n",
              "Pemula    150\n",
              "Mahir      62\n",
              "Name: Level (Pemula/Mahir), dtype: int64"
            ]
          },
          "metadata": {},
          "execution_count": 29
        }
      ]
    },
    {
      "cell_type": "code",
      "source": [
        "df_level.plot(kind='pie', y='points', autopct='%1.0f%%',\n",
        "                                colors = ['wheat', 'tan'],\n",
        "                                title='Jumlah Gunung berdasarkan Tinkat Kesulitan')"
      ],
      "metadata": {
        "colab": {
          "base_uri": "https://localhost:8080/",
          "height": 281
        },
        "id": "hZByKh84-cBK",
        "outputId": "f94fddf7-0ab9-49d9-b220-015dd059ed3a"
      },
      "execution_count": 31,
      "outputs": [
        {
          "output_type": "execute_result",
          "data": {
            "text/plain": [
              "<matplotlib.axes._subplots.AxesSubplot at 0x7ffb5191ff90>"
            ]
          },
          "metadata": {},
          "execution_count": 31
        },
        {
          "output_type": "display_data",
          "data": {
            "text/plain": [
              "<Figure size 432x288 with 1 Axes>"
            ],
            "image/png": "[encoded data removed]"
          },
          "metadata": {}
        }
      ]
    },
    {
      "cell_type": "markdown",
      "source": [
        "**Mountain Altitude**"
      ],
      "metadata": {
        "id": "fHO6IkUHBJEq"
      }
    },
    {
      "cell_type": "code",
      "source": [
        "#Comparison of Mountain Altitude by Wilayah\n",
        "df.boxplot(by ='Wilayah', column =['Ketinggian'], grid = False)"
      ],
      "metadata": {
        "colab": {
          "base_uri": "https://localhost:8080/",
          "height": 373
        },
        "id": "6JCPv1fb_v9_",
        "outputId": "453b2a9c-f373-4b54-c9a1-d2b9d3f45c50"
      },
      "execution_count": 32,
      "outputs": [
        {
          "output_type": "stream",
          "name": "stderr",
          "text": [
            "/usr/local/lib/python3.7/dist-packages/matplotlib/cbook/__init__.py:1376: VisibleDeprecationWarning: Creating an ndarray from ragged nested sequences (which is a list-or-tuple of lists-or-tuples-or ndarrays with different lengths or shapes) is deprecated. If you meant to do this, you must specify 'dtype=object' when creating the ndarray.\n",
            "  X = np.atleast_1d(X.T if isinstance(X, np.ndarray) else np.asarray(X))\n"
          ]
        },
        {
          "output_type": "execute_result",
          "data": {
            "text/plain": [
              "<matplotlib.axes._subplots.AxesSubplot at 0x7ffb518ede10>"
            ]
          },
          "metadata": {},
          "execution_count": 32
        },
        {
          "output_type": "display_data",
          "data": {
            "text/plain": [
              "<Figure size 432x288 with 1 Axes>"
            ],
            "image/png": "[encoded data removed]"
          },
          "metadata": {
            "needs_background": "light"
          }
        }
      ]
    },
    {
      "cell_type": "code",
      "source": [
        "#Comparison of Mountain Altitude by Difficulty Level\n",
        "df.boxplot(by ='Level (Pemula/Mahir)', column =['Ketinggian'], grid = False)"
      ],
      "metadata": {
        "colab": {
          "base_uri": "https://localhost:8080/",
          "height": 373
        },
        "id": "Na7hunRJ_6px",
        "outputId": "c633ed97-04bd-4070-e5a3-9c3d12675020"
      },
      "execution_count": 33,
      "outputs": [
        {
          "output_type": "stream",
          "name": "stderr",
          "text": [
            "/usr/local/lib/python3.7/dist-packages/matplotlib/cbook/__init__.py:1376: VisibleDeprecationWarning: Creating an ndarray from ragged nested sequences (which is a list-or-tuple of lists-or-tuples-or ndarrays with different lengths or shapes) is deprecated. If you meant to do this, you must specify 'dtype=object' when creating the ndarray.\n",
            "  X = np.atleast_1d(X.T if isinstance(X, np.ndarray) else np.asarray(X))\n"
          ]
        },
        {
          "output_type": "execute_result",
          "data": {
            "text/plain": [
              "<matplotlib.axes._subplots.AxesSubplot at 0x7ffb51818810>"
            ]
          },
          "metadata": {},
          "execution_count": 33
        },
        {
          "output_type": "display_data",
          "data": {
            "text/plain": [
              "<Figure size 432x288 with 1 Axes>"
            ],
            "image/png": "[encoded data removed]"
          },
          "metadata": {
            "needs_background": "light"
          }
        }
      ]
    },
    {
      "cell_type": "code",
      "source": [
        "# Box plot and Histogram for Ketinggian\n",
        "sns.set(style=\"darkgrid\")\n",
        "f, (ax_box, ax_hist) = plt.subplots(2, sharex=True, gridspec_kw={\"height_ratios\": (.15, .85)})\n",
        "sns.boxplot(df[\"Ketinggian\"], ax=ax_box)\n",
        "sns.histplot(data=df, x=\"Ketinggian\", ax=ax_hist)\n",
        "ax_box.set(xlabel='')\n",
        "plt.show()"
      ],
      "metadata": {
        "colab": {
          "base_uri": "https://localhost:8080/",
          "height": 340
        },
        "id": "3b0TNhCgAf1D",
        "outputId": "1c1c7e28-69ec-4fe9-af9a-bf65ffa16621"
      },
      "execution_count": 34,
      "outputs": [
        {
          "output_type": "stream",
          "name": "stderr",
          "text": [
            "/usr/local/lib/python3.7/dist-packages/seaborn/_decorators.py:43: FutureWarning: Pass the following variable as a keyword arg: x. From version 0.12, the only valid positional argument will be `data`, and passing other arguments without an explicit keyword will result in an error or misinterpretation.\n",
            "  FutureWarning\n"
          ]
        },
        {
          "output_type": "display_data",
          "data": {
            "text/plain": [
              "<Figure size 432x288 with 2 Axes>"
            ],
            "image/png": "[encoded data removed]"
          },
          "metadata": {}
        }
      ]
    }
  ],
  "metadata": {
    "colab": {
      "collapsed_sections": [],
      "name": "exploration mountain dataset.ipynb",
      "provenance": []
    },
    "kernelspec": {
      "display_name": "Python 3",
      "name": "python3"
    },
    "language_info": {
      "name": "python"
    }
  },
  "nbformat": 4,
  "nbformat_minor": 0
}