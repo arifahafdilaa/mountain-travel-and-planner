{
  "cells": [
    {
      "cell_type": "markdown",
      "metadata": {
        "id": "xtD2I1gdzWzw"
      },
      "source": [
        "# **Recommendation System (based on Ranking)**"
      ]
    },
    {
      "cell_type": "code",
      "execution_count": 3,
      "metadata": {
        "colab": {
          "base_uri": "https://localhost:8080/"
        },
        "id": "xGLmedF8NfLc",
        "outputId": "c444a66b-aae7-4e41-d6c9-1a14128d4a96"
      },
      "outputs": [
        {
          "output_type": "stream",
          "name": "stdout",
          "text": [
            "Mounted at /content/drive\n"
          ]
        }
      ],
      "source": [
        "# Load the Drive helper and mount\n",
        "from google.colab import drive\n",
        "drive.mount('/content/drive')"
      ]
    },
    {
      "cell_type": "markdown",
      "metadata": {
        "id": "ikCLaYJWw5ib"
      },
      "source": [
        "### **Import**"
      ]
    },
    {
      "cell_type": "markdown",
      "metadata": {
        "id": "JoZCZlAHz0RS"
      },
      "source": [
        "Import modules and library needed"
      ]
    },
    {
      "cell_type": "code",
      "execution_count": 1,
      "metadata": {
        "id": "YGmYPv1KQ8_V"
      },
      "outputs": [],
      "source": [
        "import pandas as pd\n",
        "import numpy as np\n",
        "\n",
        "import tensorflow as tf\n",
        "\n",
        "import matplotlib.pyplot as plt\n",
        "from typing import Dict, Text"
      ]
    },
    {
      "cell_type": "markdown",
      "metadata": {
        "id": "Y3zHicOTz-ak"
      },
      "source": [
        "### **Prepare Dataset**"
      ]
    },
    {
      "cell_type": "code",
      "execution_count": 4,
      "metadata": {
        "colab": {
          "base_uri": "https://localhost:8080/",
          "height": 206
        },
        "id": "5WqownPPPIYe",
        "outputId": "07f88a38-be78-48f6-9aaf-5820a562c56d"
      },
      "outputs": [
        {
          "output_type": "execute_result",
          "data": {
            "text/plain": [
              "   user_id  mountain_id  rating\n",
              "0        1          126       3\n",
              "1        1          127       3\n",
              "2        1          171       4\n",
              "3        9          156       1\n",
              "4        9          207       5"
            ],
            "text/html": [
              "\n",
              "  <div id=\"df-e31d18ae-9edc-4cca-b1d4-e8972b344a38\">\n",
              "    <div class=\"colab-df-container\">\n",
              "      <div>\n",
              "<style scoped>\n",
              "    .dataframe tbody tr th:only-of-type {\n",
              "        vertical-align: middle;\n",
              "    }\n",
              "\n",
              "    .dataframe tbody tr th {\n",
              "        vertical-align: top;\n",
              "    }\n",
              "\n",
              "    .dataframe thead th {\n",
              "        text-align: right;\n",
              "    }\n",
              "</style>\n",
              "<table border=\"1\" class=\"dataframe\">\n",
              "  <thead>\n",
              "    <tr style=\"text-align: right;\">\n",
              "      <th></th>\n",
              "      <th>user_id</th>\n",
              "      <th>mountain_id</th>\n",
              "      <th>rating</th>\n",
              "    </tr>\n",
              "  </thead>\n",
              "  <tbody>\n",
              "    <tr>\n",
              "      <th>0</th>\n",
              "      <td>1</td>\n",
              "      <td>126</td>\n",
              "      <td>3</td>\n",
              "    </tr>\n",
              "    <tr>\n",
              "      <th>1</th>\n",
              "      <td>1</td>\n",
              "      <td>127</td>\n",
              "      <td>3</td>\n",
              "    </tr>\n",
              "    <tr>\n",
              "      <th>2</th>\n",
              "      <td>1</td>\n",
              "      <td>171</td>\n",
              "      <td>4</td>\n",
              "    </tr>\n",
              "    <tr>\n",
              "      <th>3</th>\n",
              "      <td>9</td>\n",
              "      <td>156</td>\n",
              "      <td>1</td>\n",
              "    </tr>\n",
              "    <tr>\n",
              "      <th>4</th>\n",
              "      <td>9</td>\n",
              "      <td>207</td>\n",
              "      <td>5</td>\n",
              "    </tr>\n",
              "  </tbody>\n",
              "</table>\n",
              "</div>\n",
              "      <button class=\"colab-df-convert\" onclick=\"convertToInteractive('df-e31d18ae-9edc-4cca-b1d4-e8972b344a38')\"\n",
              "              title=\"Convert this dataframe to an interactive table.\"\n",
              "              style=\"display:none;\">\n",
              "        \n",
              "  <svg xmlns=\"http://www.w3.org/2000/svg\" height=\"24px\"viewBox=\"0 0 24 24\"\n",
              "       width=\"24px\">\n",
              "    <path d=\"M0 0h24v24H0V0z\" fill=\"none\"/>\n",
              "    <path d=\"M18.56 5.44l.94 2.06.94-2.06 2.06-.94-2.06-.94-.94-2.06-.94 2.06-2.06.94zm-11 1L8.5 8.5l.94-2.06 2.06-.94-2.06-.94L8.5 2.5l-.94 2.06-2.06.94zm10 10l.94 2.06.94-2.06 2.06-.94-2.06-.94-.94-2.06-.94 2.06-2.06.94z\"/><path d=\"M17.41 7.96l-1.37-1.37c-.4-.4-.92-.59-1.43-.59-.52 0-1.04.2-1.43.59L10.3 9.45l-7.72 7.72c-.78.78-.78 2.05 0 2.83L4 21.41c.39.39.9.59 1.41.59.51 0 1.02-.2 1.41-.59l7.78-7.78 2.81-2.81c.8-.78.8-2.07 0-2.86zM5.41 20L4 18.59l7.72-7.72 1.47 1.35L5.41 20z\"/>\n",
              "  </svg>\n",
              "      </button>\n",
              "      \n",
              "  <style>\n",
              "    .colab-df-container {\n",
              "      display:flex;\n",
              "      flex-wrap:wrap;\n",
              "      gap: 12px;\n",
              "    }\n",
              "\n",
              "    .colab-df-convert {\n",
              "      background-color: #E8F0FE;\n",
              "      border: none;\n",
              "      border-radius: 50%;\n",
              "      cursor: pointer;\n",
              "      display: none;\n",
              "      fill: #1967D2;\n",
              "      height: 32px;\n",
              "      padding: 0 0 0 0;\n",
              "      width: 32px;\n",
              "    }\n",
              "\n",
              "    .colab-df-convert:hover {\n",
              "      background-color: #E2EBFA;\n",
              "      box-shadow: 0px 1px 2px rgba(60, 64, 67, 0.3), 0px 1px 3px 1px rgba(60, 64, 67, 0.15);\n",
              "      fill: #174EA6;\n",
              "    }\n",
              "\n",
              "    [theme=dark] .colab-df-convert {\n",
              "      background-color: #3B4455;\n",
              "      fill: #D2E3FC;\n",
              "    }\n",
              "\n",
              "    [theme=dark] .colab-df-convert:hover {\n",
              "      background-color: #434B5C;\n",
              "      box-shadow: 0px 1px 3px 1px rgba(0, 0, 0, 0.15);\n",
              "      filter: drop-shadow(0px 1px 2px rgba(0, 0, 0, 0.3));\n",
              "      fill: #FFFFFF;\n",
              "    }\n",
              "  </style>\n",
              "\n",
              "      <script>\n",
              "        const buttonEl =\n",
              "          document.querySelector('#df-e31d18ae-9edc-4cca-b1d4-e8972b344a38 button.colab-df-convert');\n",
              "        buttonEl.style.display =\n",
              "          google.colab.kernel.accessAllowed ? 'block' : 'none';\n",
              "\n",
              "        async function convertToInteractive(key) {\n",
              "          const element = document.querySelector('#df-e31d18ae-9edc-4cca-b1d4-e8972b344a38');\n",
              "          const dataTable =\n",
              "            await google.colab.kernel.invokeFunction('convertToInteractive',\n",
              "                                                     [key], {});\n",
              "          if (!dataTable) return;\n",
              "\n",
              "          const docLinkHtml = 'Like what you see? Visit the ' +\n",
              "            '<a target=\"_blank\" href=https://colab.research.google.com/notebooks/data_table.ipynb>data table notebook</a>'\n",
              "            + ' to learn more about interactive tables.';\n",
              "          element.innerHTML = '';\n",
              "          dataTable['output_type'] = 'display_data';\n",
              "          await google.colab.output.renderOutput(dataTable, element);\n",
              "          const docLink = document.createElement('div');\n",
              "          docLink.innerHTML = docLinkHtml;\n",
              "          element.appendChild(docLink);\n",
              "        }\n",
              "      </script>\n",
              "    </div>\n",
              "  </div>\n",
              "  "
            ]
          },
          "metadata": {},
          "execution_count": 4
        }
      ],
      "source": [
        "df = pd.read_csv(\"/content/drive/MyDrive/Capstone Project/Machine Learning/datasets/ratings.csv\")\n",
        "df.head()"
      ]
    },
    {
      "cell_type": "code",
      "execution_count": 5,
      "metadata": {
        "colab": {
          "base_uri": "https://localhost:8080/"
        },
        "id": "HIUT9HLMxTm5",
        "outputId": "a3971f46-1a98-4ead-c1c6-34d2dc807000"
      },
      "outputs": [
        {
          "output_type": "stream",
          "name": "stdout",
          "text": [
            "Length of dataset rating : 3232\n"
          ]
        }
      ],
      "source": [
        "print('Length of dataset rating :', len(df))"
      ]
    },
    {
      "cell_type": "code",
      "source": [
        "#Unique User IDs and Mountain IDs \n",
        "unique_user_ids = len(df.user_id.unique())\n",
        "unique_mountain_ids = len(df.mountain_id.unique())\n",
        "\n",
        "print(unique_mountain_ids, 'Mountain IDs')\n",
        "print(unique_user_ids, 'User IDs')"
      ],
      "metadata": {
        "colab": {
          "base_uri": "https://localhost:8080/"
        },
        "id": "eqoKdaJw1Ifq",
        "outputId": "79bc9cfa-6eb2-4389-d18d-3f985ce56155"
      },
      "execution_count": 7,
      "outputs": [
        {
          "output_type": "stream",
          "name": "stdout",
          "text": [
            "212 Mountain IDs\n",
            "500 User IDs\n"
          ]
        }
      ]
    },
    {
      "cell_type": "markdown",
      "source": [
        "## **Exploration**"
      ],
      "metadata": {
        "id": "Te7xSz9g1CZU"
      }
    },
    {
      "cell_type": "code",
      "source": [
        "#Popular Mountain\n",
        "df.groupby('mountain_id')['rating'].mean().sort_values(ascending=False)[:10]"
      ],
      "metadata": {
        "colab": {
          "base_uri": "https://localhost:8080/"
        },
        "id": "ZKll8ri20jKp",
        "outputId": "e0170f48-db60-4fce-fc1d-d3bc67b54207"
      },
      "execution_count": 8,
      "outputs": [
        {
          "output_type": "execute_result",
          "data": {
            "text/plain": [
              "mountain_id\n",
              "160    3.888889\n",
              "90     3.866667\n",
              "131    3.846154\n",
              "105    3.727273\n",
              "39     3.681818\n",
              "11     3.666667\n",
              "158    3.666667\n",
              "179    3.647059\n",
              "13     3.642857\n",
              "31     3.600000\n",
              "Name: rating, dtype: float64"
            ]
          },
          "metadata": {},
          "execution_count": 8
        }
      ]
    },
    {
      "cell_type": "code",
      "source": [
        "#How often user goes hiking\n",
        "df_freq = df.groupby('user_id').count().groupby('rating').count()\n",
        "df_freq.columns = ['count']\n",
        "df_freq.index.names = ['Hiking Frequency']\n",
        "print(df_freq)"
      ],
      "metadata": {
        "id": "KQjl-Ztj1xWe",
        "colab": {
          "base_uri": "https://localhost:8080/"
        },
        "outputId": "c1058493-deda-4666-93eb-bbfb49537a6e"
      },
      "execution_count": 10,
      "outputs": [
        {
          "output_type": "stream",
          "name": "stdout",
          "text": [
            "                  count\n",
            "Hiking Frequency       \n",
            "3                    60\n",
            "4                    60\n",
            "5                    66\n",
            "6                    69\n",
            "7                    63\n",
            "8                    68\n",
            "9                    57\n",
            "10                   57\n"
          ]
        }
      ]
    },
    {
      "cell_type": "code",
      "execution_count": 11,
      "metadata": {
        "id": "44uEoxNiyHti",
        "colab": {
          "base_uri": "https://localhost:8080/"
        },
        "outputId": "42eb262e-2268-4b58-bd0f-fde6f32f1cbf"
      },
      "outputs": [
        {
          "output_type": "stream",
          "name": "stdout",
          "text": [
            "There are : 2585 object on train examples\n",
            "There are : 647 object on val examples\n"
          ]
        }
      ],
      "source": [
        "from sklearn.model_selection import train_test_split\n",
        "\n",
        "train, val = train_test_split(df, test_size=0.2, shuffle=True, random_state=88)\n",
        "\n",
        "print('There are :', len(train), 'object on train examples')\n",
        "print('There are :', len(val), 'object on val examples')"
      ]
    },
    {
      "cell_type": "markdown",
      "metadata": {
        "id": "dhtl8kwz7VX_"
      },
      "source": [
        "## **Implementing Model**"
      ]
    },
    {
      "cell_type": "code",
      "source": [
        "embedding_dimension = 32\n",
        "\n",
        "user_id = tf.keras.layers.Input(shape=[1], name=\"user_id\")\n",
        "user_embedding = tf.keras.layers.Embedding(unique_user_ids + 1, embedding_dimension)(user_id)\n",
        "\n",
        "mountain_id = tf.keras.layers.Input(shape=[1], name=\"mountain_id\")\n",
        "mountain_embedding = tf.keras.layers.Embedding(unique_mountain_ids + 1, embedding_dimension)(mountain_id)\n",
        "\n",
        "x = tf.keras.layers.Dot(name = 'dot_product', normalize = True, axes = 2)([user_embedding, mountain_embedding])\n",
        "x = tf.keras.layers.Flatten()(x)\n",
        "\n",
        "x = tf.keras.layers.Dense(256, activation=\"relu\")(x)\n",
        "x = tf.keras.layers.Dense(64, activation=\"relu\")(x)\n",
        "x = tf.keras.layers.Dense(1, kernel_initializer='he_normal')(x)"
      ],
      "metadata": {
        "id": "C69YYJHQlNjY"
      },
      "execution_count": 12,
      "outputs": []
    },
    {
      "cell_type": "code",
      "source": [
        "# Create model and compile it\n",
        "model = tf.keras.Model([user_id, mountain_id], x)\n",
        "model.summary()"
      ],
      "metadata": {
        "colab": {
          "base_uri": "https://localhost:8080/"
        },
        "id": "JdTWy9-Mm3j-",
        "outputId": "fca7a3fc-8ca9-4906-c05b-d7ed72f69735"
      },
      "execution_count": 13,
      "outputs": [
        {
          "output_type": "stream",
          "name": "stdout",
          "text": [
            "Model: \"model\"\n",
            "__________________________________________________________________________________________________\n",
            " Layer (type)                   Output Shape         Param #     Connected to                     \n",
            "==================================================================================================\n",
            " user_id (InputLayer)           [(None, 1)]          0           []                               \n",
            "                                                                                                  \n",
            " mountain_id (InputLayer)       [(None, 1)]          0           []                               \n",
            "                                                                                                  \n",
            " embedding (Embedding)          (None, 1, 32)        16032       ['user_id[0][0]']                \n",
            "                                                                                                  \n",
            " embedding_1 (Embedding)        (None, 1, 32)        6816        ['mountain_id[0][0]']            \n",
            "                                                                                                  \n",
            " dot_product (Dot)              (None, 1, 1)         0           ['embedding[0][0]',              \n",
            "                                                                  'embedding_1[0][0]']            \n",
            "                                                                                                  \n",
            " flatten (Flatten)              (None, 1)            0           ['dot_product[0][0]']            \n",
            "                                                                                                  \n",
            " dense (Dense)                  (None, 256)          512         ['flatten[0][0]']                \n",
            "                                                                                                  \n",
            " dense_1 (Dense)                (None, 64)           16448       ['dense[0][0]']                  \n",
            "                                                                                                  \n",
            " dense_2 (Dense)                (None, 1)            65          ['dense_1[0][0]']                \n",
            "                                                                                                  \n",
            "==================================================================================================\n",
            "Total params: 39,873\n",
            "Trainable params: 39,873\n",
            "Non-trainable params: 0\n",
            "__________________________________________________________________________________________________\n"
          ]
        }
      ]
    },
    {
      "cell_type": "code",
      "execution_count": 14,
      "metadata": {
        "id": "_HWxbw7U2ySY"
      },
      "outputs": [],
      "source": [
        "#Compile\n",
        "model.compile(loss=tf.keras.losses.MeanSquaredError(), metrics=[\"mae\", \"mse\"], optimizer='Adagrad')"
      ]
    },
    {
      "cell_type": "code",
      "execution_count": 15,
      "metadata": {
        "id": "O_vzy9HaMrTY",
        "colab": {
          "base_uri": "https://localhost:8080/"
        },
        "outputId": "041a8f23-72e7-4c71-d9bb-6e9ceb6e89fe"
      },
      "outputs": [
        {
          "output_type": "stream",
          "name": "stdout",
          "text": [
            "Epoch 1/150\n",
            "81/81 [==============================] - 1s 2ms/step - loss: 11.0566 - mae: 3.0128 - mse: 11.0566 - lr: 1.0000e-08\n",
            "Epoch 2/150\n",
            "81/81 [==============================] - 0s 2ms/step - loss: 11.0566 - mae: 3.0128 - mse: 11.0566 - lr: 1.1220e-08\n",
            "Epoch 3/150\n",
            "81/81 [==============================] - 0s 2ms/step - loss: 11.0566 - mae: 3.0128 - mse: 11.0566 - lr: 1.2589e-08\n",
            "Epoch 4/150\n",
            "81/81 [==============================] - 0s 2ms/step - loss: 11.0566 - mae: 3.0128 - mse: 11.0566 - lr: 1.4125e-08\n",
            "Epoch 5/150\n",
            "81/81 [==============================] - 0s 2ms/step - loss: 11.0566 - mae: 3.0128 - mse: 11.0566 - lr: 1.5849e-08\n",
            "Epoch 6/150\n",
            "81/81 [==============================] - 0s 3ms/step - loss: 11.0566 - mae: 3.0128 - mse: 11.0566 - lr: 1.7783e-08\n",
            "Epoch 7/150\n",
            "81/81 [==============================] - 0s 3ms/step - loss: 11.0565 - mae: 3.0128 - mse: 11.0565 - lr: 1.9953e-08\n",
            "Epoch 8/150\n",
            "81/81 [==============================] - 0s 2ms/step - loss: 11.0565 - mae: 3.0128 - mse: 11.0565 - lr: 2.2387e-08\n",
            "Epoch 9/150\n",
            "81/81 [==============================] - 0s 2ms/step - loss: 11.0565 - mae: 3.0128 - mse: 11.0565 - lr: 2.5119e-08\n",
            "Epoch 10/150\n",
            "81/81 [==============================] - 0s 2ms/step - loss: 11.0565 - mae: 3.0128 - mse: 11.0565 - lr: 2.8184e-08\n",
            "Epoch 11/150\n",
            "81/81 [==============================] - 0s 2ms/step - loss: 11.0565 - mae: 3.0128 - mse: 11.0565 - lr: 3.1623e-08\n",
            "Epoch 12/150\n",
            "81/81 [==============================] - 0s 2ms/step - loss: 11.0565 - mae: 3.0128 - mse: 11.0565 - lr: 3.5481e-08\n",
            "Epoch 13/150\n",
            "81/81 [==============================] - 0s 2ms/step - loss: 11.0565 - mae: 3.0128 - mse: 11.0565 - lr: 3.9811e-08\n",
            "Epoch 14/150\n",
            "81/81 [==============================] - 0s 2ms/step - loss: 11.0565 - mae: 3.0128 - mse: 11.0565 - lr: 4.4668e-08\n",
            "Epoch 15/150\n",
            "81/81 [==============================] - 0s 2ms/step - loss: 11.0565 - mae: 3.0128 - mse: 11.0565 - lr: 5.0119e-08\n",
            "Epoch 16/150\n",
            "81/81 [==============================] - 0s 2ms/step - loss: 11.0565 - mae: 3.0128 - mse: 11.0565 - lr: 5.6234e-08\n",
            "Epoch 17/150\n",
            "81/81 [==============================] - 0s 2ms/step - loss: 11.0565 - mae: 3.0128 - mse: 11.0565 - lr: 6.3096e-08\n",
            "Epoch 18/150\n",
            "81/81 [==============================] - 0s 2ms/step - loss: 11.0565 - mae: 3.0128 - mse: 11.0565 - lr: 7.0795e-08\n",
            "Epoch 19/150\n",
            "81/81 [==============================] - 0s 2ms/step - loss: 11.0564 - mae: 3.0128 - mse: 11.0564 - lr: 7.9433e-08\n",
            "Epoch 20/150\n",
            "81/81 [==============================] - 0s 2ms/step - loss: 11.0564 - mae: 3.0128 - mse: 11.0564 - lr: 8.9125e-08\n",
            "Epoch 21/150\n",
            "81/81 [==============================] - 0s 2ms/step - loss: 11.0564 - mae: 3.0128 - mse: 11.0564 - lr: 1.0000e-07\n",
            "Epoch 22/150\n",
            "81/81 [==============================] - 0s 3ms/step - loss: 11.0564 - mae: 3.0128 - mse: 11.0564 - lr: 1.1220e-07\n",
            "Epoch 23/150\n",
            "81/81 [==============================] - 0s 2ms/step - loss: 11.0564 - mae: 3.0128 - mse: 11.0564 - lr: 1.2589e-07\n",
            "Epoch 24/150\n",
            "81/81 [==============================] - 0s 2ms/step - loss: 11.0563 - mae: 3.0128 - mse: 11.0563 - lr: 1.4125e-07\n",
            "Epoch 25/150\n",
            "81/81 [==============================] - 1s 7ms/step - loss: 11.0563 - mae: 3.0128 - mse: 11.0563 - lr: 1.5849e-07\n",
            "Epoch 26/150\n",
            "81/81 [==============================] - 0s 3ms/step - loss: 11.0563 - mae: 3.0128 - mse: 11.0563 - lr: 1.7783e-07\n",
            "Epoch 27/150\n",
            "81/81 [==============================] - 0s 2ms/step - loss: 11.0563 - mae: 3.0128 - mse: 11.0563 - lr: 1.9953e-07\n",
            "Epoch 28/150\n",
            "81/81 [==============================] - 0s 4ms/step - loss: 11.0562 - mae: 3.0128 - mse: 11.0562 - lr: 2.2387e-07\n",
            "Epoch 29/150\n",
            "81/81 [==============================] - 0s 4ms/step - loss: 11.0562 - mae: 3.0128 - mse: 11.0562 - lr: 2.5119e-07\n",
            "Epoch 30/150\n",
            "81/81 [==============================] - 0s 5ms/step - loss: 11.0561 - mae: 3.0128 - mse: 11.0561 - lr: 2.8184e-07\n",
            "Epoch 31/150\n",
            "81/81 [==============================] - 0s 6ms/step - loss: 11.0561 - mae: 3.0128 - mse: 11.0561 - lr: 3.1623e-07\n",
            "Epoch 32/150\n",
            "81/81 [==============================] - 0s 4ms/step - loss: 11.0560 - mae: 3.0128 - mse: 11.0560 - lr: 3.5481e-07\n",
            "Epoch 33/150\n",
            "81/81 [==============================] - 0s 6ms/step - loss: 11.0559 - mae: 3.0127 - mse: 11.0559 - lr: 3.9811e-07\n",
            "Epoch 34/150\n",
            "81/81 [==============================] - 1s 7ms/step - loss: 11.0559 - mae: 3.0127 - mse: 11.0559 - lr: 4.4668e-07\n",
            "Epoch 35/150\n",
            "81/81 [==============================] - 0s 5ms/step - loss: 11.0558 - mae: 3.0127 - mse: 11.0558 - lr: 5.0119e-07\n",
            "Epoch 36/150\n",
            "81/81 [==============================] - 0s 6ms/step - loss: 11.0557 - mae: 3.0127 - mse: 11.0557 - lr: 5.6234e-07\n",
            "Epoch 37/150\n",
            "81/81 [==============================] - 0s 4ms/step - loss: 11.0556 - mae: 3.0127 - mse: 11.0556 - lr: 6.3096e-07\n",
            "Epoch 38/150\n",
            "81/81 [==============================] - 0s 4ms/step - loss: 11.0555 - mae: 3.0127 - mse: 11.0555 - lr: 7.0795e-07\n",
            "Epoch 39/150\n",
            "81/81 [==============================] - 0s 5ms/step - loss: 11.0553 - mae: 3.0126 - mse: 11.0553 - lr: 7.9433e-07\n",
            "Epoch 40/150\n",
            "81/81 [==============================] - 0s 5ms/step - loss: 11.0552 - mae: 3.0126 - mse: 11.0552 - lr: 8.9125e-07\n",
            "Epoch 41/150\n",
            "81/81 [==============================] - 0s 5ms/step - loss: 11.0550 - mae: 3.0126 - mse: 11.0550 - lr: 1.0000e-06\n",
            "Epoch 42/150\n",
            "81/81 [==============================] - 0s 4ms/step - loss: 11.0548 - mae: 3.0126 - mse: 11.0548 - lr: 1.1220e-06\n",
            "Epoch 43/150\n",
            "81/81 [==============================] - 0s 2ms/step - loss: 11.0546 - mae: 3.0125 - mse: 11.0546 - lr: 1.2589e-06\n",
            "Epoch 44/150\n",
            "81/81 [==============================] - 0s 2ms/step - loss: 11.0544 - mae: 3.0125 - mse: 11.0544 - lr: 1.4125e-06\n",
            "Epoch 45/150\n",
            "81/81 [==============================] - 0s 2ms/step - loss: 11.0542 - mae: 3.0124 - mse: 11.0542 - lr: 1.5849e-06\n",
            "Epoch 46/150\n",
            "81/81 [==============================] - 0s 2ms/step - loss: 11.0539 - mae: 3.0124 - mse: 11.0539 - lr: 1.7783e-06\n",
            "Epoch 47/150\n",
            "81/81 [==============================] - 0s 2ms/step - loss: 11.0536 - mae: 3.0124 - mse: 11.0536 - lr: 1.9953e-06\n",
            "Epoch 48/150\n",
            "81/81 [==============================] - 0s 2ms/step - loss: 11.0533 - mae: 3.0123 - mse: 11.0533 - lr: 2.2387e-06\n",
            "Epoch 49/150\n",
            "81/81 [==============================] - 0s 2ms/step - loss: 11.0529 - mae: 3.0122 - mse: 11.0529 - lr: 2.5119e-06\n",
            "Epoch 50/150\n",
            "81/81 [==============================] - 0s 2ms/step - loss: 11.0525 - mae: 3.0122 - mse: 11.0525 - lr: 2.8184e-06\n",
            "Epoch 51/150\n",
            "81/81 [==============================] - 0s 2ms/step - loss: 11.0520 - mae: 3.0121 - mse: 11.0520 - lr: 3.1623e-06\n",
            "Epoch 52/150\n",
            "81/81 [==============================] - 0s 2ms/step - loss: 11.0515 - mae: 3.0120 - mse: 11.0515 - lr: 3.5481e-06\n",
            "Epoch 53/150\n",
            "81/81 [==============================] - 0s 2ms/step - loss: 11.0510 - mae: 3.0119 - mse: 11.0510 - lr: 3.9811e-06\n",
            "Epoch 54/150\n",
            "81/81 [==============================] - 0s 2ms/step - loss: 11.0504 - mae: 3.0118 - mse: 11.0504 - lr: 4.4668e-06\n",
            "Epoch 55/150\n",
            "81/81 [==============================] - 0s 2ms/step - loss: 11.0497 - mae: 3.0117 - mse: 11.0497 - lr: 5.0119e-06\n",
            "Epoch 56/150\n",
            "81/81 [==============================] - 0s 2ms/step - loss: 11.0489 - mae: 3.0116 - mse: 11.0489 - lr: 5.6234e-06\n",
            "Epoch 57/150\n",
            "81/81 [==============================] - 0s 2ms/step - loss: 11.0481 - mae: 3.0114 - mse: 11.0481 - lr: 6.3096e-06\n",
            "Epoch 58/150\n",
            "81/81 [==============================] - 0s 2ms/step - loss: 11.0471 - mae: 3.0113 - mse: 11.0471 - lr: 7.0795e-06\n",
            "Epoch 59/150\n",
            "81/81 [==============================] - 0s 2ms/step - loss: 11.0461 - mae: 3.0111 - mse: 11.0461 - lr: 7.9433e-06\n",
            "Epoch 60/150\n",
            "81/81 [==============================] - 0s 3ms/step - loss: 11.0450 - mae: 3.0109 - mse: 11.0450 - lr: 8.9125e-06\n",
            "Epoch 61/150\n",
            "81/81 [==============================] - 0s 2ms/step - loss: 11.0437 - mae: 3.0107 - mse: 11.0437 - lr: 1.0000e-05\n",
            "Epoch 62/150\n",
            "81/81 [==============================] - 0s 3ms/step - loss: 11.0423 - mae: 3.0105 - mse: 11.0423 - lr: 1.1220e-05\n",
            "Epoch 63/150\n",
            "81/81 [==============================] - 0s 2ms/step - loss: 11.0407 - mae: 3.0102 - mse: 11.0407 - lr: 1.2589e-05\n",
            "Epoch 64/150\n",
            "81/81 [==============================] - 0s 2ms/step - loss: 11.0390 - mae: 3.0099 - mse: 11.0390 - lr: 1.4125e-05\n",
            "Epoch 65/150\n",
            "81/81 [==============================] - 0s 2ms/step - loss: 11.0371 - mae: 3.0096 - mse: 11.0371 - lr: 1.5849e-05\n",
            "Epoch 66/150\n",
            "81/81 [==============================] - 0s 2ms/step - loss: 11.0350 - mae: 3.0093 - mse: 11.0350 - lr: 1.7783e-05\n",
            "Epoch 67/150\n",
            "81/81 [==============================] - 0s 3ms/step - loss: 11.0327 - mae: 3.0089 - mse: 11.0327 - lr: 1.9953e-05\n",
            "Epoch 68/150\n",
            "81/81 [==============================] - 0s 2ms/step - loss: 11.0301 - mae: 3.0085 - mse: 11.0301 - lr: 2.2387e-05\n",
            "Epoch 69/150\n",
            "81/81 [==============================] - 0s 2ms/step - loss: 11.0272 - mae: 3.0080 - mse: 11.0272 - lr: 2.5119e-05\n",
            "Epoch 70/150\n",
            "81/81 [==============================] - 0s 2ms/step - loss: 11.0240 - mae: 3.0075 - mse: 11.0240 - lr: 2.8184e-05\n",
            "Epoch 71/150\n",
            "81/81 [==============================] - 0s 3ms/step - loss: 11.0205 - mae: 3.0069 - mse: 11.0205 - lr: 3.1623e-05\n",
            "Epoch 72/150\n",
            "81/81 [==============================] - 0s 2ms/step - loss: 11.0167 - mae: 3.0062 - mse: 11.0167 - lr: 3.5481e-05\n",
            "Epoch 73/150\n",
            "81/81 [==============================] - 0s 2ms/step - loss: 11.0124 - mae: 3.0055 - mse: 11.0124 - lr: 3.9811e-05\n",
            "Epoch 74/150\n",
            "81/81 [==============================] - 0s 2ms/step - loss: 11.0077 - mae: 3.0047 - mse: 11.0077 - lr: 4.4668e-05\n",
            "Epoch 75/150\n",
            "81/81 [==============================] - 0s 2ms/step - loss: 11.0025 - mae: 3.0039 - mse: 11.0025 - lr: 5.0119e-05\n",
            "Epoch 76/150\n",
            "81/81 [==============================] - 0s 2ms/step - loss: 10.9967 - mae: 3.0029 - mse: 10.9967 - lr: 5.6234e-05\n",
            "Epoch 77/150\n",
            "81/81 [==============================] - 0s 3ms/step - loss: 10.9903 - mae: 3.0018 - mse: 10.9903 - lr: 6.3096e-05\n",
            "Epoch 78/150\n",
            "81/81 [==============================] - 0s 2ms/step - loss: 10.9831 - mae: 3.0007 - mse: 10.9831 - lr: 7.0795e-05\n",
            "Epoch 79/150\n",
            "81/81 [==============================] - 0s 2ms/step - loss: 10.9752 - mae: 2.9993 - mse: 10.9752 - lr: 7.9433e-05\n",
            "Epoch 80/150\n",
            "81/81 [==============================] - 0s 2ms/step - loss: 10.9664 - mae: 2.9979 - mse: 10.9664 - lr: 8.9125e-05\n",
            "Epoch 81/150\n",
            "81/81 [==============================] - 0s 3ms/step - loss: 10.9565 - mae: 2.9962 - mse: 10.9565 - lr: 1.0000e-04\n",
            "Epoch 82/150\n",
            "81/81 [==============================] - 0s 3ms/step - loss: 10.9457 - mae: 2.9944 - mse: 10.9457 - lr: 1.1220e-04\n",
            "Epoch 83/150\n",
            "81/81 [==============================] - 0s 2ms/step - loss: 10.9337 - mae: 2.9924 - mse: 10.9337 - lr: 1.2589e-04\n",
            "Epoch 84/150\n",
            "81/81 [==============================] - 0s 2ms/step - loss: 10.9204 - mae: 2.9902 - mse: 10.9204 - lr: 1.4125e-04\n",
            "Epoch 85/150\n",
            "81/81 [==============================] - 0s 2ms/step - loss: 10.9057 - mae: 2.9878 - mse: 10.9057 - lr: 1.5849e-04\n",
            "Epoch 86/150\n",
            "81/81 [==============================] - 0s 3ms/step - loss: 10.8894 - mae: 2.9851 - mse: 10.8894 - lr: 1.7783e-04\n",
            "Epoch 87/150\n",
            "81/81 [==============================] - 0s 2ms/step - loss: 10.8713 - mae: 2.9820 - mse: 10.8713 - lr: 1.9953e-04\n",
            "Epoch 88/150\n",
            "81/81 [==============================] - 0s 2ms/step - loss: 10.8511 - mae: 2.9787 - mse: 10.8511 - lr: 2.2387e-04\n",
            "Epoch 89/150\n",
            "81/81 [==============================] - 0s 2ms/step - loss: 10.8282 - mae: 2.9748 - mse: 10.8282 - lr: 2.5119e-04\n",
            "Epoch 90/150\n",
            "81/81 [==============================] - 0s 2ms/step - loss: 10.8022 - mae: 2.9705 - mse: 10.8022 - lr: 2.8184e-04\n",
            "Epoch 91/150\n",
            "81/81 [==============================] - 0s 2ms/step - loss: 10.7724 - mae: 2.9655 - mse: 10.7724 - lr: 3.1623e-04\n",
            "Epoch 92/150\n",
            "81/81 [==============================] - 0s 2ms/step - loss: 10.7376 - mae: 2.9596 - mse: 10.7376 - lr: 3.5481e-04\n",
            "Epoch 93/150\n",
            "81/81 [==============================] - 0s 2ms/step - loss: 10.6967 - mae: 2.9527 - mse: 10.6967 - lr: 3.9811e-04\n",
            "Epoch 94/150\n",
            "81/81 [==============================] - 0s 2ms/step - loss: 10.6482 - mae: 2.9446 - mse: 10.6482 - lr: 4.4668e-04\n",
            "Epoch 95/150\n",
            "81/81 [==============================] - 0s 2ms/step - loss: 10.5900 - mae: 2.9348 - mse: 10.5900 - lr: 5.0119e-04\n",
            "Epoch 96/150\n",
            "81/81 [==============================] - 0s 3ms/step - loss: 10.5196 - mae: 2.9229 - mse: 10.5196 - lr: 5.6234e-04\n",
            "Epoch 97/150\n",
            "81/81 [==============================] - 0s 2ms/step - loss: 10.4302 - mae: 2.9076 - mse: 10.4302 - lr: 6.3096e-04\n",
            "Epoch 98/150\n",
            "81/81 [==============================] - 0s 2ms/step - loss: 10.3098 - mae: 2.8870 - mse: 10.3098 - lr: 7.0795e-04\n",
            "Epoch 99/150\n",
            "81/81 [==============================] - 0s 2ms/step - loss: 10.1525 - mae: 2.8600 - mse: 10.1525 - lr: 7.9433e-04\n",
            "Epoch 100/150\n",
            "81/81 [==============================] - 0s 2ms/step - loss: 9.9468 - mae: 2.8239 - mse: 9.9468 - lr: 8.9125e-04\n",
            "Epoch 101/150\n",
            "81/81 [==============================] - 0s 2ms/step - loss: 9.6788 - mae: 2.7766 - mse: 9.6788 - lr: 0.0010\n",
            "Epoch 102/150\n",
            "81/81 [==============================] - 0s 2ms/step - loss: 9.3246 - mae: 2.7123 - mse: 9.3246 - lr: 0.0011\n",
            "Epoch 103/150\n",
            "81/81 [==============================] - 0s 2ms/step - loss: 8.8515 - mae: 2.6248 - mse: 8.8515 - lr: 0.0013\n",
            "Epoch 104/150\n",
            "81/81 [==============================] - 0s 2ms/step - loss: 8.2211 - mae: 2.5031 - mse: 8.2211 - lr: 0.0014\n",
            "Epoch 105/150\n",
            "81/81 [==============================] - 0s 2ms/step - loss: 7.3909 - mae: 2.3331 - mse: 7.3909 - lr: 0.0016\n",
            "Epoch 106/150\n",
            "81/81 [==============================] - 0s 2ms/step - loss: 6.3331 - mae: 2.1025 - mse: 6.3331 - lr: 0.0018\n",
            "Epoch 107/150\n",
            "81/81 [==============================] - 0s 2ms/step - loss: 5.0852 - mae: 1.8515 - mse: 5.0852 - lr: 0.0020\n",
            "Epoch 108/150\n",
            "81/81 [==============================] - 0s 2ms/step - loss: 3.8020 - mae: 1.6049 - mse: 3.8020 - lr: 0.0022\n",
            "Epoch 109/150\n",
            "81/81 [==============================] - 0s 2ms/step - loss: 2.7375 - mae: 1.3577 - mse: 2.7375 - lr: 0.0025\n",
            "Epoch 110/150\n",
            "81/81 [==============================] - 0s 2ms/step - loss: 2.0733 - mae: 1.2131 - mse: 2.0733 - lr: 0.0028\n",
            "Epoch 111/150\n",
            "81/81 [==============================] - 0s 2ms/step - loss: 1.7514 - mae: 1.1298 - mse: 1.7514 - lr: 0.0032\n",
            "Epoch 112/150\n",
            "81/81 [==============================] - 0s 2ms/step - loss: 1.5864 - mae: 1.0727 - mse: 1.5864 - lr: 0.0035\n",
            "Epoch 113/150\n",
            "81/81 [==============================] - 0s 2ms/step - loss: 1.4546 - mae: 1.0196 - mse: 1.4546 - lr: 0.0040\n",
            "Epoch 114/150\n",
            "81/81 [==============================] - 0s 2ms/step - loss: 1.3167 - mae: 0.9592 - mse: 1.3167 - lr: 0.0045\n",
            "Epoch 115/150\n",
            "81/81 [==============================] - 0s 2ms/step - loss: 1.1688 - mae: 0.8887 - mse: 1.1688 - lr: 0.0050\n",
            "Epoch 116/150\n",
            "81/81 [==============================] - 0s 2ms/step - loss: 1.0169 - mae: 0.8075 - mse: 1.0169 - lr: 0.0056\n",
            "Epoch 117/150\n",
            "81/81 [==============================] - 0s 2ms/step - loss: 0.8694 - mae: 0.7215 - mse: 0.8694 - lr: 0.0063\n",
            "Epoch 118/150\n",
            "81/81 [==============================] - 0s 3ms/step - loss: 0.7342 - mae: 0.6357 - mse: 0.7342 - lr: 0.0071\n",
            "Epoch 119/150\n",
            "81/81 [==============================] - 0s 2ms/step - loss: 0.6140 - mae: 0.5524 - mse: 0.6140 - lr: 0.0079\n",
            "Epoch 120/150\n",
            "81/81 [==============================] - 0s 2ms/step - loss: 0.5050 - mae: 0.4787 - mse: 0.5050 - lr: 0.0089\n",
            "Epoch 121/150\n",
            "81/81 [==============================] - 0s 2ms/step - loss: 0.4059 - mae: 0.4134 - mse: 0.4059 - lr: 0.0100\n",
            "Epoch 122/150\n",
            "81/81 [==============================] - 0s 2ms/step - loss: 0.3183 - mae: 0.3585 - mse: 0.3183 - lr: 0.0112\n",
            "Epoch 123/150\n",
            "81/81 [==============================] - 0s 2ms/step - loss: 0.2518 - mae: 0.3214 - mse: 0.2518 - lr: 0.0126\n",
            "Epoch 124/150\n",
            "81/81 [==============================] - 0s 2ms/step - loss: 0.2005 - mae: 0.2900 - mse: 0.2005 - lr: 0.0141\n",
            "Epoch 125/150\n",
            "81/81 [==============================] - 0s 2ms/step - loss: 0.1604 - mae: 0.2586 - mse: 0.1604 - lr: 0.0158\n",
            "Epoch 126/150\n",
            "81/81 [==============================] - 0s 2ms/step - loss: 0.1306 - mae: 0.2322 - mse: 0.1306 - lr: 0.0178\n",
            "Epoch 127/150\n",
            "81/81 [==============================] - 0s 2ms/step - loss: 0.1082 - mae: 0.2024 - mse: 0.1082 - lr: 0.0200\n",
            "Epoch 128/150\n",
            "81/81 [==============================] - 0s 2ms/step - loss: 0.1017 - mae: 0.1929 - mse: 0.1017 - lr: 0.0224\n",
            "Epoch 129/150\n",
            "81/81 [==============================] - 0s 2ms/step - loss: 0.1257 - mae: 0.2162 - mse: 0.1257 - lr: 0.0251\n",
            "Epoch 130/150\n",
            "81/81 [==============================] - 0s 3ms/step - loss: 0.1895 - mae: 0.2787 - mse: 0.1895 - lr: 0.0282\n",
            "Epoch 131/150\n",
            "81/81 [==============================] - 0s 3ms/step - loss: 0.2397 - mae: 0.3390 - mse: 0.2397 - lr: 0.0316\n",
            "Epoch 132/150\n",
            "81/81 [==============================] - 0s 2ms/step - loss: 0.2225 - mae: 0.3382 - mse: 0.2225 - lr: 0.0355\n",
            "Epoch 133/150\n",
            "81/81 [==============================] - 0s 2ms/step - loss: 0.2013 - mae: 0.3262 - mse: 0.2013 - lr: 0.0398\n",
            "Epoch 134/150\n",
            "81/81 [==============================] - 0s 2ms/step - loss: 0.1867 - mae: 0.3077 - mse: 0.1867 - lr: 0.0447\n",
            "Epoch 135/150\n",
            "81/81 [==============================] - 0s 2ms/step - loss: 0.1823 - mae: 0.3004 - mse: 0.1823 - lr: 0.0501\n",
            "Epoch 136/150\n",
            "81/81 [==============================] - 0s 2ms/step - loss: 0.1826 - mae: 0.3020 - mse: 0.1826 - lr: 0.0562\n",
            "Epoch 137/150\n",
            "81/81 [==============================] - 0s 2ms/step - loss: 0.1903 - mae: 0.3124 - mse: 0.1903 - lr: 0.0631\n",
            "Epoch 138/150\n",
            "81/81 [==============================] - 0s 2ms/step - loss: 0.1984 - mae: 0.3246 - mse: 0.1984 - lr: 0.0708\n",
            "Epoch 139/150\n",
            "81/81 [==============================] - 0s 2ms/step - loss: 0.2146 - mae: 0.3385 - mse: 0.2146 - lr: 0.0794\n",
            "Epoch 140/150\n",
            "81/81 [==============================] - 0s 2ms/step - loss: 0.2268 - mae: 0.3518 - mse: 0.2268 - lr: 0.0891\n",
            "Epoch 141/150\n",
            "81/81 [==============================] - 0s 2ms/step - loss: 0.2318 - mae: 0.3574 - mse: 0.2318 - lr: 0.1000\n",
            "Epoch 142/150\n",
            "81/81 [==============================] - 0s 2ms/step - loss: 0.2315 - mae: 0.3555 - mse: 0.2315 - lr: 0.1122\n",
            "Epoch 143/150\n",
            "81/81 [==============================] - 0s 3ms/step - loss: 0.2346 - mae: 0.3566 - mse: 0.2346 - lr: 0.1259\n",
            "Epoch 144/150\n",
            "81/81 [==============================] - 0s 2ms/step - loss: 0.2387 - mae: 0.3599 - mse: 0.2387 - lr: 0.1413\n",
            "Epoch 145/150\n",
            "81/81 [==============================] - 0s 2ms/step - loss: 0.2335 - mae: 0.3572 - mse: 0.2335 - lr: 0.1585\n",
            "Epoch 146/150\n",
            "81/81 [==============================] - 0s 2ms/step - loss: 0.2290 - mae: 0.3572 - mse: 0.2290 - lr: 0.1778\n",
            "Epoch 147/150\n",
            "81/81 [==============================] - 0s 3ms/step - loss: 0.2392 - mae: 0.3613 - mse: 0.2392 - lr: 0.1995\n",
            "Epoch 148/150\n",
            "81/81 [==============================] - 0s 3ms/step - loss: 0.2470 - mae: 0.3689 - mse: 0.2470 - lr: 0.2239\n",
            "Epoch 149/150\n",
            "81/81 [==============================] - 0s 2ms/step - loss: 0.2408 - mae: 0.3600 - mse: 0.2408 - lr: 0.2512\n",
            "Epoch 150/150\n",
            "81/81 [==============================] - 0s 2ms/step - loss: 0.2680 - mae: 0.3822 - mse: 0.2680 - lr: 0.2818\n"
          ]
        }
      ],
      "source": [
        "# Set the learning rate scheduler\n",
        "lr_schedule = tf.keras.callbacks.LearningRateScheduler(\n",
        "    lambda epoch: 1e-8 * 10**(epoch / 20))\n",
        "# Train the model\n",
        "history = model.fit([train.user_id, train.mountain_id], train.rating, epochs=150, callbacks=[lr_schedule])"
      ]
    },
    {
      "cell_type": "code",
      "execution_count": 16,
      "metadata": {
        "colab": {
          "base_uri": "https://localhost:8080/",
          "height": 405
        },
        "id": "8rvPqTlZM3PA",
        "outputId": "c7b27407-6f53-4d62-bdee-7c2de7475216"
      },
      "outputs": [
        {
          "output_type": "execute_result",
          "data": {
            "text/plain": [
              "(1e-08, 0.3, 0.0, 10.0)"
            ]
          },
          "metadata": {},
          "execution_count": 16
        },
        {
          "output_type": "display_data",
          "data": {
            "text/plain": [
              "<Figure size 720x432 with 1 Axes>"
            ],
            "image/png": "[encoded data removed]"
          },
          "metadata": {
            "needs_background": "light"
          }
        }
      ],
      "source": [
        "# Define the learning rate array\n",
        "lrs = 1e-8 * (10 ** (np.arange(150) / 20))\n",
        "\n",
        "# Plot\n",
        "plt.figure(figsize=(10, 6))\n",
        "plt.grid(True)\n",
        "plt.semilogx(lrs, history.history[\"loss\"])\n",
        "plt.tick_params('both', length=10, width=1, which='both')\n",
        "plt.axis([1e-8, 0.3, 0, 10])"
      ]
    },
    {
      "cell_type": "code",
      "execution_count": 17,
      "metadata": {
        "id": "y1RHN6eM21oi",
        "colab": {
          "base_uri": "https://localhost:8080/"
        },
        "outputId": "240244d0-805c-4cb0-804b-6ead27504b4d"
      },
      "outputs": [
        {
          "output_type": "stream",
          "name": "stdout",
          "text": [
            "Epoch 1/100\n",
            "81/81 [==============================] - 1s 2ms/step - loss: 0.2401 - mae: 0.3664 - mse: 0.2401\n",
            "Epoch 2/100\n",
            "81/81 [==============================] - 0s 2ms/step - loss: 0.1232 - mae: 0.2420 - mse: 0.1232\n",
            "Epoch 3/100\n",
            "81/81 [==============================] - 0s 2ms/step - loss: 0.0787 - mae: 0.1739 - mse: 0.0787\n",
            "Epoch 4/100\n",
            "81/81 [==============================] - 0s 2ms/step - loss: 0.0566 - mae: 0.1332 - mse: 0.0566\n",
            "Epoch 5/100\n",
            "81/81 [==============================] - 0s 2ms/step - loss: 0.0458 - mae: 0.1068 - mse: 0.0458\n",
            "Epoch 6/100\n",
            "81/81 [==============================] - 0s 2ms/step - loss: 0.0393 - mae: 0.0894 - mse: 0.0393\n",
            "Epoch 7/100\n",
            "81/81 [==============================] - 0s 3ms/step - loss: 0.0359 - mae: 0.0770 - mse: 0.0359\n",
            "Epoch 8/100\n",
            "81/81 [==============================] - 0s 2ms/step - loss: 0.0333 - mae: 0.0674 - mse: 0.0333\n",
            "Epoch 9/100\n",
            "81/81 [==============================] - 0s 2ms/step - loss: 0.0315 - mae: 0.0615 - mse: 0.0315\n",
            "Epoch 10/100\n",
            "81/81 [==============================] - 0s 2ms/step - loss: 0.0304 - mae: 0.0552 - mse: 0.0304\n",
            "Epoch 11/100\n",
            "81/81 [==============================] - 0s 2ms/step - loss: 0.0295 - mae: 0.0516 - mse: 0.0295\n",
            "Epoch 12/100\n",
            "81/81 [==============================] - 0s 2ms/step - loss: 0.0290 - mae: 0.0479 - mse: 0.0290\n",
            "Epoch 13/100\n",
            "81/81 [==============================] - 0s 2ms/step - loss: 0.0283 - mae: 0.0446 - mse: 0.0283\n",
            "Epoch 14/100\n",
            "81/81 [==============================] - 0s 2ms/step - loss: 0.0283 - mae: 0.0434 - mse: 0.0283\n",
            "Epoch 15/100\n",
            "81/81 [==============================] - 0s 2ms/step - loss: 0.0277 - mae: 0.0425 - mse: 0.0277\n",
            "Epoch 16/100\n",
            "81/81 [==============================] - 0s 2ms/step - loss: 0.0278 - mae: 0.0392 - mse: 0.0278\n",
            "Epoch 17/100\n",
            "81/81 [==============================] - 0s 2ms/step - loss: 0.0274 - mae: 0.0399 - mse: 0.0274\n",
            "Epoch 18/100\n",
            "81/81 [==============================] - 0s 2ms/step - loss: 0.0274 - mae: 0.0390 - mse: 0.0274\n",
            "Epoch 19/100\n",
            "81/81 [==============================] - 0s 2ms/step - loss: 0.0272 - mae: 0.0377 - mse: 0.0272\n",
            "Epoch 20/100\n",
            "81/81 [==============================] - 0s 2ms/step - loss: 0.0271 - mae: 0.0369 - mse: 0.0271\n",
            "Epoch 21/100\n",
            "81/81 [==============================] - 0s 2ms/step - loss: 0.0269 - mae: 0.0354 - mse: 0.0269\n",
            "Epoch 22/100\n",
            "81/81 [==============================] - 0s 2ms/step - loss: 0.0270 - mae: 0.0353 - mse: 0.0270\n",
            "Epoch 23/100\n",
            "81/81 [==============================] - 0s 2ms/step - loss: 0.0268 - mae: 0.0348 - mse: 0.0268\n",
            "Epoch 24/100\n",
            "81/81 [==============================] - 0s 2ms/step - loss: 0.0267 - mae: 0.0327 - mse: 0.0267\n",
            "Epoch 25/100\n",
            "81/81 [==============================] - 0s 2ms/step - loss: 0.0268 - mae: 0.0337 - mse: 0.0268\n",
            "Epoch 26/100\n",
            "81/81 [==============================] - 0s 2ms/step - loss: 0.0267 - mae: 0.0356 - mse: 0.0267\n",
            "Epoch 27/100\n",
            "81/81 [==============================] - 0s 2ms/step - loss: 0.0266 - mae: 0.0331 - mse: 0.0266\n",
            "Epoch 28/100\n",
            "81/81 [==============================] - 0s 3ms/step - loss: 0.0265 - mae: 0.0340 - mse: 0.0265\n",
            "Epoch 29/100\n",
            "81/81 [==============================] - 0s 2ms/step - loss: 0.0265 - mae: 0.0325 - mse: 0.0265\n",
            "Epoch 30/100\n",
            "81/81 [==============================] - 0s 2ms/step - loss: 0.0262 - mae: 0.0332 - mse: 0.0262\n",
            "Epoch 31/100\n",
            "81/81 [==============================] - 0s 2ms/step - loss: 0.0262 - mae: 0.0334 - mse: 0.0262\n",
            "Epoch 32/100\n",
            "81/81 [==============================] - 0s 2ms/step - loss: 0.0263 - mae: 0.0333 - mse: 0.0263\n",
            "Epoch 33/100\n",
            "81/81 [==============================] - 0s 2ms/step - loss: 0.0263 - mae: 0.0322 - mse: 0.0263\n",
            "Epoch 34/100\n",
            "81/81 [==============================] - 0s 2ms/step - loss: 0.0263 - mae: 0.0318 - mse: 0.0263\n",
            "Epoch 35/100\n",
            "81/81 [==============================] - 0s 2ms/step - loss: 0.0262 - mae: 0.0315 - mse: 0.0262\n",
            "Epoch 36/100\n",
            "81/81 [==============================] - 0s 2ms/step - loss: 0.0262 - mae: 0.0326 - mse: 0.0262\n",
            "Epoch 37/100\n",
            "81/81 [==============================] - 0s 3ms/step - loss: 0.0261 - mae: 0.0332 - mse: 0.0261\n",
            "Epoch 38/100\n",
            "81/81 [==============================] - 0s 2ms/step - loss: 0.0260 - mae: 0.0313 - mse: 0.0260\n",
            "Epoch 39/100\n",
            "81/81 [==============================] - 0s 2ms/step - loss: 0.0262 - mae: 0.0312 - mse: 0.0262\n",
            "Epoch 40/100\n",
            "81/81 [==============================] - 0s 2ms/step - loss: 0.0261 - mae: 0.0309 - mse: 0.0261\n",
            "Epoch 41/100\n",
            "81/81 [==============================] - 0s 2ms/step - loss: 0.0261 - mae: 0.0305 - mse: 0.0261\n",
            "Epoch 42/100\n",
            "81/81 [==============================] - 0s 2ms/step - loss: 0.0261 - mae: 0.0317 - mse: 0.0261\n",
            "Epoch 43/100\n",
            "81/81 [==============================] - 0s 2ms/step - loss: 0.0260 - mae: 0.0309 - mse: 0.0260\n",
            "Epoch 44/100\n",
            "81/81 [==============================] - 0s 2ms/step - loss: 0.0260 - mae: 0.0303 - mse: 0.0260\n",
            "Epoch 45/100\n",
            "81/81 [==============================] - 0s 2ms/step - loss: 0.0260 - mae: 0.0306 - mse: 0.0260\n",
            "Epoch 46/100\n",
            "81/81 [==============================] - 0s 2ms/step - loss: 0.0260 - mae: 0.0330 - mse: 0.0260\n",
            "Epoch 47/100\n",
            "81/81 [==============================] - 0s 3ms/step - loss: 0.0260 - mae: 0.0303 - mse: 0.0260\n",
            "Epoch 48/100\n",
            "81/81 [==============================] - 0s 3ms/step - loss: 0.0258 - mae: 0.0309 - mse: 0.0258\n",
            "Epoch 49/100\n",
            "81/81 [==============================] - 0s 2ms/step - loss: 0.0258 - mae: 0.0313 - mse: 0.0258\n",
            "Epoch 50/100\n",
            "81/81 [==============================] - 0s 2ms/step - loss: 0.0258 - mae: 0.0310 - mse: 0.0258\n",
            "Epoch 51/100\n",
            "81/81 [==============================] - 0s 2ms/step - loss: 0.0258 - mae: 0.0313 - mse: 0.0258\n",
            "Epoch 52/100\n",
            "81/81 [==============================] - 0s 2ms/step - loss: 0.0258 - mae: 0.0300 - mse: 0.0258\n",
            "Epoch 53/100\n",
            "81/81 [==============================] - 0s 2ms/step - loss: 0.0258 - mae: 0.0324 - mse: 0.0258\n",
            "Epoch 54/100\n",
            "81/81 [==============================] - 0s 2ms/step - loss: 0.0258 - mae: 0.0309 - mse: 0.0258\n",
            "Epoch 55/100\n",
            "81/81 [==============================] - 0s 2ms/step - loss: 0.0258 - mae: 0.0296 - mse: 0.0258\n",
            "Epoch 56/100\n",
            "81/81 [==============================] - 0s 2ms/step - loss: 0.0258 - mae: 0.0307 - mse: 0.0258\n",
            "Epoch 57/100\n",
            "81/81 [==============================] - 0s 2ms/step - loss: 0.0258 - mae: 0.0305 - mse: 0.0258\n",
            "Epoch 58/100\n",
            "81/81 [==============================] - 0s 2ms/step - loss: 0.0258 - mae: 0.0284 - mse: 0.0258\n",
            "Epoch 59/100\n",
            "81/81 [==============================] - 0s 2ms/step - loss: 0.0257 - mae: 0.0282 - mse: 0.0257\n",
            "Epoch 60/100\n",
            "81/81 [==============================] - 0s 2ms/step - loss: 0.0258 - mae: 0.0284 - mse: 0.0258\n",
            "Epoch 61/100\n",
            "81/81 [==============================] - 0s 2ms/step - loss: 0.0256 - mae: 0.0306 - mse: 0.0256\n",
            "Epoch 62/100\n",
            "81/81 [==============================] - 0s 2ms/step - loss: 0.0256 - mae: 0.0309 - mse: 0.0256\n",
            "Epoch 63/100\n",
            "81/81 [==============================] - 0s 2ms/step - loss: 0.0257 - mae: 0.0305 - mse: 0.0257\n",
            "Epoch 64/100\n",
            "81/81 [==============================] - 0s 2ms/step - loss: 0.0256 - mae: 0.0309 - mse: 0.0256\n",
            "Epoch 65/100\n",
            "81/81 [==============================] - 0s 2ms/step - loss: 0.0255 - mae: 0.0298 - mse: 0.0255\n",
            "Epoch 66/100\n",
            "81/81 [==============================] - 0s 2ms/step - loss: 0.0257 - mae: 0.0292 - mse: 0.0257\n",
            "Epoch 67/100\n",
            "81/81 [==============================] - 0s 3ms/step - loss: 0.0257 - mae: 0.0297 - mse: 0.0257\n",
            "Epoch 68/100\n",
            "81/81 [==============================] - 0s 3ms/step - loss: 0.0256 - mae: 0.0283 - mse: 0.0256\n",
            "Epoch 69/100\n",
            "81/81 [==============================] - 0s 3ms/step - loss: 0.0256 - mae: 0.0302 - mse: 0.0256\n",
            "Epoch 70/100\n",
            "81/81 [==============================] - 0s 3ms/step - loss: 0.0254 - mae: 0.0293 - mse: 0.0254\n",
            "Epoch 71/100\n",
            "81/81 [==============================] - 0s 2ms/step - loss: 0.0256 - mae: 0.0282 - mse: 0.0256\n",
            "Epoch 72/100\n",
            "81/81 [==============================] - 0s 2ms/step - loss: 0.0256 - mae: 0.0309 - mse: 0.0256\n",
            "Epoch 73/100\n",
            "81/81 [==============================] - 0s 3ms/step - loss: 0.0256 - mae: 0.0292 - mse: 0.0256\n",
            "Epoch 74/100\n",
            "81/81 [==============================] - 0s 2ms/step - loss: 0.0255 - mae: 0.0310 - mse: 0.0255\n",
            "Epoch 75/100\n",
            "81/81 [==============================] - 0s 2ms/step - loss: 0.0255 - mae: 0.0318 - mse: 0.0255\n",
            "Epoch 76/100\n",
            "81/81 [==============================] - 0s 2ms/step - loss: 0.0255 - mae: 0.0301 - mse: 0.0255\n",
            "Epoch 77/100\n",
            "81/81 [==============================] - 0s 2ms/step - loss: 0.0256 - mae: 0.0293 - mse: 0.0256\n",
            "Epoch 78/100\n",
            "81/81 [==============================] - 0s 2ms/step - loss: 0.0255 - mae: 0.0301 - mse: 0.0255\n",
            "Epoch 79/100\n",
            "81/81 [==============================] - 0s 2ms/step - loss: 0.0256 - mae: 0.0294 - mse: 0.0256\n",
            "Epoch 80/100\n",
            "81/81 [==============================] - 0s 2ms/step - loss: 0.0256 - mae: 0.0278 - mse: 0.0256\n",
            "Epoch 81/100\n",
            "81/81 [==============================] - 0s 2ms/step - loss: 0.0256 - mae: 0.0276 - mse: 0.0256\n",
            "Epoch 82/100\n",
            "81/81 [==============================] - 0s 2ms/step - loss: 0.0255 - mae: 0.0307 - mse: 0.0255\n",
            "Epoch 83/100\n",
            "81/81 [==============================] - 0s 3ms/step - loss: 0.0256 - mae: 0.0294 - mse: 0.0256\n",
            "Epoch 84/100\n",
            "81/81 [==============================] - 0s 2ms/step - loss: 0.0254 - mae: 0.0305 - mse: 0.0254\n",
            "Epoch 85/100\n",
            "81/81 [==============================] - 0s 3ms/step - loss: 0.0255 - mae: 0.0289 - mse: 0.0255\n",
            "Epoch 86/100\n",
            "81/81 [==============================] - 0s 2ms/step - loss: 0.0255 - mae: 0.0285 - mse: 0.0255\n",
            "Epoch 87/100\n",
            "81/81 [==============================] - 0s 2ms/step - loss: 0.0255 - mae: 0.0303 - mse: 0.0255\n",
            "Epoch 88/100\n",
            "81/81 [==============================] - 0s 3ms/step - loss: 0.0255 - mae: 0.0295 - mse: 0.0255\n",
            "Epoch 89/100\n",
            "81/81 [==============================] - 0s 2ms/step - loss: 0.0255 - mae: 0.0283 - mse: 0.0255\n",
            "Epoch 90/100\n",
            "81/81 [==============================] - 0s 2ms/step - loss: 0.0254 - mae: 0.0276 - mse: 0.0254\n",
            "Epoch 91/100\n",
            "81/81 [==============================] - 0s 2ms/step - loss: 0.0254 - mae: 0.0298 - mse: 0.0254\n",
            "Epoch 92/100\n",
            "81/81 [==============================] - 0s 2ms/step - loss: 0.0253 - mae: 0.0293 - mse: 0.0253\n",
            "Epoch 93/100\n",
            "81/81 [==============================] - 0s 2ms/step - loss: 0.0255 - mae: 0.0284 - mse: 0.0255\n",
            "Epoch 94/100\n",
            "81/81 [==============================] - 0s 2ms/step - loss: 0.0254 - mae: 0.0290 - mse: 0.0254\n",
            "Epoch 95/100\n",
            "81/81 [==============================] - 0s 2ms/step - loss: 0.0254 - mae: 0.0283 - mse: 0.0254\n",
            "Epoch 96/100\n",
            "81/81 [==============================] - 0s 2ms/step - loss: 0.0254 - mae: 0.0293 - mse: 0.0254\n",
            "Epoch 97/100\n",
            "81/81 [==============================] - 0s 2ms/step - loss: 0.0254 - mae: 0.0289 - mse: 0.0254\n",
            "Epoch 98/100\n",
            "81/81 [==============================] - 0s 2ms/step - loss: 0.0254 - mae: 0.0283 - mse: 0.0254\n",
            "Epoch 99/100\n",
            "81/81 [==============================] - 0s 2ms/step - loss: 0.0255 - mae: 0.0270 - mse: 0.0255\n",
            "Epoch 100/100\n",
            "81/81 [==============================] - 0s 2ms/step - loss: 0.0254 - mae: 0.0284 - mse: 0.0254\n"
          ]
        },
        {
          "output_type": "execute_result",
          "data": {
            "text/plain": [
              "<keras.callbacks.History at 0x7f086d255850>"
            ]
          },
          "metadata": {},
          "execution_count": 17
        }
      ],
      "source": [
        "model.compile(optimizer=tf.keras.optimizers.Adagrad(learning_rate=0.01),loss=tf.keras.losses.MeanSquaredError(), metrics=[\"mae\", \"mse\"])\n",
        "model.fit([train.user_id, train.mountain_id], train.rating, epochs=100)"
      ]
    },
    {
      "cell_type": "code",
      "execution_count": 18,
      "metadata": {
        "id": "wseomTzYPmX_",
        "colab": {
          "base_uri": "https://localhost:8080/",
          "height": 265
        },
        "outputId": "8998e799-8707-4bd6-969d-122dc2e14444"
      },
      "outputs": [
        {
          "output_type": "display_data",
          "data": {
            "text/plain": [
              "<Figure size 432x288 with 1 Axes>"
            ],
            "image/png": "[encoded data removed]"
          },
          "metadata": {
            "needs_background": "light"
          }
        }
      ],
      "source": [
        "# Plot the loss\n",
        "loss = history.history['loss']\n",
        "epochs = range(len(loss))\n",
        "plt.plot(epochs, loss, 'b', label='Training Loss')\n",
        "plt.show()"
      ]
    },
    {
      "cell_type": "code",
      "execution_count": 19,
      "metadata": {
        "colab": {
          "base_uri": "https://localhost:8080/"
        },
        "id": "N5DjgZvh94uv",
        "outputId": "46745ae9-5938-43ca-ec0e-5169f94b294a"
      },
      "outputs": [
        {
          "output_type": "stream",
          "name": "stdout",
          "text": [
            "21/21 [==============================] - 0s 3ms/step - loss: 3.2157 - mae: 1.4692 - mse: 3.2157\n"
          ]
        },
        {
          "output_type": "execute_result",
          "data": {
            "text/plain": [
              "{'loss': 3.2156999111175537,\n",
              " 'mae': 1.4692240953445435,\n",
              " 'mse': 3.2156999111175537}"
            ]
          },
          "metadata": {},
          "execution_count": 19
        }
      ],
      "source": [
        "#Evaluate\n",
        "model.evaluate([val.user_id, val.mountain_id], val.rating, return_dict=True)"
      ]
    },
    {
      "cell_type": "code",
      "execution_count": 20,
      "metadata": {
        "colab": {
          "base_uri": "https://localhost:8080/"
        },
        "id": "vF3nbqUeP7vv",
        "outputId": "73961b46-307a-4f57-c1e8-1c35cbb0b0c3"
      },
      "outputs": [
        {
          "output_type": "stream",
          "name": "stdout",
          "text": [
            "Ratings:\n",
            "92: [[5.002727]]\n",
            "69: [[5.0021553]]\n",
            "129: [[4.508921]]\n",
            "110: [[3.5938141]]\n",
            "174: [[3.5824635]]\n",
            "65: [[3.5440009]]\n",
            "172: [[3.5366545]]\n",
            "158: [[3.527138]]\n",
            "48: [[3.5260973]]\n",
            "27: [[3.5088093]]\n"
          ]
        }
      ],
      "source": [
        "#Test \n",
        "test_ratings = {}\n",
        "test_mountain_ids = np.array(list(set(df.mountain_id)))\n",
        "for mountain_id in test_mountain_ids:\n",
        "  test_ratings[mountain_id] = model({\n",
        "      \"user_id\": np.array([5]),\n",
        "      \"mountain_id\": np.array([mountain_id])\n",
        "  })\n",
        "\n",
        "print(\"Ratings:\")\n",
        "for title, score in sorted(test_ratings.items(), key=lambda x: x[1], reverse=True)[:10]:\n",
        "  print(f\"{title}: {score}\")"
      ]
    },
    {
      "cell_type": "markdown",
      "metadata": {
        "id": "KwzQRBC5_XpN"
      },
      "source": [
        "## **Saved and Convert Model**"
      ]
    },
    {
      "cell_type": "code",
      "execution_count": 21,
      "metadata": {
        "id": "WPUCCfPI_h9i"
      },
      "outputs": [],
      "source": [
        "# Save the entire model to a HDF5 file.\n",
        "# The '.h5' extension indicates that the model should be saved to HDF5.\n",
        "model.save('recommendation_rankingbased.h5')"
      ]
    },
    {
      "cell_type": "code",
      "execution_count": 22,
      "metadata": {
        "id": "ZGl-hA3T_qmS",
        "colab": {
          "base_uri": "https://localhost:8080/"
        },
        "outputId": "43972d8c-65bd-462c-ef26-9fb6a1d24bc6"
      },
      "outputs": [
        {
          "output_type": "stream",
          "name": "stdout",
          "text": [
            "Model: \"model\"\n",
            "__________________________________________________________________________________________________\n",
            " Layer (type)                   Output Shape         Param #     Connected to                     \n",
            "==================================================================================================\n",
            " user_id (InputLayer)           [(None, 1)]          0           []                               \n",
            "                                                                                                  \n",
            " mountain_id (InputLayer)       [(None, 1)]          0           []                               \n",
            "                                                                                                  \n",
            " embedding (Embedding)          (None, 1, 32)        16032       ['user_id[0][0]']                \n",
            "                                                                                                  \n",
            " embedding_1 (Embedding)        (None, 1, 32)        6816        ['mountain_id[0][0]']            \n",
            "                                                                                                  \n",
            " dot_product (Dot)              (None, 1, 1)         0           ['embedding[0][0]',              \n",
            "                                                                  'embedding_1[0][0]']            \n",
            "                                                                                                  \n",
            " flatten (Flatten)              (None, 1)            0           ['dot_product[0][0]']            \n",
            "                                                                                                  \n",
            " dense (Dense)                  (None, 256)          512         ['flatten[0][0]']                \n",
            "                                                                                                  \n",
            " dense_1 (Dense)                (None, 64)           16448       ['dense[0][0]']                  \n",
            "                                                                                                  \n",
            " dense_2 (Dense)                (None, 1)            65          ['dense_1[0][0]']                \n",
            "                                                                                                  \n",
            "==================================================================================================\n",
            "Total params: 39,873\n",
            "Trainable params: 39,873\n",
            "Non-trainable params: 0\n",
            "__________________________________________________________________________________________________\n",
            "21/21 [==============================] - 0s 2ms/step - loss: 3.2157 - mae: 1.4692 - mse: 3.2157\n"
          ]
        },
        {
          "output_type": "execute_result",
          "data": {
            "text/plain": [
              "{'loss': 3.2156999111175537,\n",
              " 'mae': 1.4692240953445435,\n",
              " 'mse': 3.2156999111175537}"
            ]
          },
          "metadata": {},
          "execution_count": 22
        }
      ],
      "source": [
        "# Recreate the exact same model, including its weights and the optimizer\n",
        "new_model = tf.keras.models.load_model('recommendation_rankingbased.h5')\n",
        "\n",
        "# Show the model architecture\n",
        "new_model.summary()\n",
        "\n",
        "new_model.evaluate([val.user_id, val.mountain_id], val.rating, return_dict=True)"
      ]
    }
  ],
  "metadata": {
    "colab": {
      "collapsed_sections": [],
      "name": "recommendation system (ranking-based).ipynb",
      "provenance": []
    },
    "kernelspec": {
      "display_name": "Python 3",
      "name": "python3"
    },
    "language_info": {
      "name": "python"
    }
  },
  "nbformat": 4,
  "nbformat_minor": 0
}
